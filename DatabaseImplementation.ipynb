{
  "nbformat": 4,
  "nbformat_minor": 0,
  "metadata": {
    "colab": {
      "provenance": [],
      "authorship_tag": "ABX9TyMAATs8ONoDzCmxmWbiaT1w"
    },
    "kernelspec": {
      "name": "python3",
      "display_name": "Python 3"
    },
    "language_info": {
      "name": "python"
    }
  },
  "cells": [
    {
      "cell_type": "code",
      "execution_count": 618,
      "metadata": {
        "id": "bgjdV3-JHFgo"
      },
      "outputs": [],
      "source": [
        "import sqlite3\n",
        "import pandas as pd"
      ]
    },
    {
      "cell_type": "code",
      "source": [
        "db_connect = sqlite3.connect('PawsomePets.db')\n",
        "cursor = db_connect.cursor()"
      ],
      "metadata": {
        "id": "mvobNBTJyNcs"
      },
      "execution_count": 619,
      "outputs": []
    },
    {
      "cell_type": "markdown",
      "source": [
        "Creating Relations"
      ],
      "metadata": {
        "id": "uxbonHUm7ZPb"
      }
    },
    {
      "cell_type": "code",
      "source": [
        "#creating Clinic relation\n",
        "createClinic = \"\"\"CREATE TABLE Clinic(\t\t\t\n",
        "                  clinicNo VARCHAR(5) UNIQUE NOT NULL,\n",
        "                  name VARCHAR(250) NOT NULL,\n",
        "                  address VARCHAR(250) NOT NULL,\n",
        "                  telephoneNumber INT UNIQUE NOT NULL\n",
        "                    CONSTRAINT validClinicPhone \n",
        "                      CHECK (telephoneNumber BETWEEN 100000000 AND 9999999999),\n",
        "                  PRIMARY KEY (clinicNo)\n",
        "                );\"\"\"\n",
        "\n",
        "cursor.execute(createClinic)"
      ],
      "metadata": {
        "colab": {
          "base_uri": "https://localhost:8080/"
        },
        "id": "bO9m6TWDyUTs",
        "outputId": "18bf0c89-ab4a-4c32-ddb5-1d1c51988c89"
      },
      "execution_count": 620,
      "outputs": [
        {
          "output_type": "execute_result",
          "data": {
            "text/plain": [
              "<sqlite3.Cursor at 0x7f0f83177dc0>"
            ]
          },
          "metadata": {},
          "execution_count": 620
        }
      ]
    },
    {
      "cell_type": "code",
      "source": [
        "#creating Staff relation\n",
        "createStaff = \"\"\"CREATE TABLE Staff(\t\t\t\n",
        "                 staffNo VARCHAR(4) UNIQUE NOT NULL,\n",
        "                 clinicNo INT NOT NULL,\n",
        "                 name VARCHAR(250) NOT NULL,\n",
        "                 address VARCHAR(250) NOT NULL,\n",
        "                 telephoneNumber INT UNIQUE NOT NULL\n",
        "                  CONSTRAINT validStaffPhone\n",
        "                    CHECK (telephoneNumber BETWEEN 1000000000 AND 9999999999),\n",
        "                 DOB DATE NOT NULL\n",
        "                  CONSTRAINT validStaffDOB\n",
        "                    CHECK (DOB <= date('now')),\n",
        "                 position VARCHAR(250) NOT NULL,\n",
        "                 salary INT NOT NULL,\n",
        "                 PRIMARY KEY (staffNo),\n",
        "                 FOREIGN KEY (clinicNo) REFERENCES Clinic(clinicNo) ON UPDATE CASCADE\n",
        "              );\"\"\"\n",
        "\n",
        "cursor.execute(createStaff)"
      ],
      "metadata": {
        "colab": {
          "base_uri": "https://localhost:8080/"
        },
        "id": "4hWwgqYw2RpJ",
        "outputId": "ef382bdd-b856-42b2-b053-c709664e30fc"
      },
      "execution_count": 621,
      "outputs": [
        {
          "output_type": "execute_result",
          "data": {
            "text/plain": [
              "<sqlite3.Cursor at 0x7f0f83177dc0>"
            ]
          },
          "metadata": {},
          "execution_count": 621
        }
      ]
    },
    {
      "cell_type": "code",
      "source": [
        "#creating Owner relation\n",
        "createOwner = \"\"\"CREATE TABLE Owner(\n",
        "                 ownerNo VARCHAR(5) UNIQUE NOT NULL,\n",
        "                 name VARCHAR(5) NOT NULL,\n",
        "                 address VARCHAR(5) NOT NULL,\n",
        "                 telephoneNumber INT UNIQUE NOT NULL\n",
        "                   CONSTRAINT validOwnerPhone\n",
        "                     CHECK (telephoneNumber BETWEEN 1000000000 AND 9999999999),\n",
        "                 PRIMARY KEY (ownerNo)\n",
        "              );\"\"\"\n",
        "\n",
        "cursor.execute(createOwner)"
      ],
      "metadata": {
        "colab": {
          "base_uri": "https://localhost:8080/"
        },
        "id": "9bbrUtx82znm",
        "outputId": "d7e1a5fd-efa2-4633-e423-646c61b45a4f"
      },
      "execution_count": 622,
      "outputs": [
        {
          "output_type": "execute_result",
          "data": {
            "text/plain": [
              "<sqlite3.Cursor at 0x7f0f83177dc0>"
            ]
          },
          "metadata": {},
          "execution_count": 622
        }
      ]
    },
    {
      "cell_type": "code",
      "source": [
        "#creating Pet relation\n",
        "createPet = \"\"\"CREATE TABLE Pet(\t\t\n",
        "               petNo VARCHAR(4) UNIQUE NOT NULL,\n",
        "               ownerNo VARCHAR(5) NOT NULL,\n",
        "               clinicNo VARCHAR(5) NOT NULL,\n",
        "               name VARCHAR(250),\n",
        "               DOB DATE NOT NULL\n",
        "                CONSTRAINT validPetDOB\n",
        "                  CHECK (DOB < date('now')),\n",
        "               species VARCHAR(250) NOT NULL,\n",
        "               breed VARCHAR(50) NOT NULL,\n",
        "               color VARCHAR(50) NOT NULL,\n",
        "               PRIMARY KEY (petNo),\n",
        "               FOREIGN KEY (ownerNo) REFERENCES Owner(ownerNo) ON UPDATE CASCADE \n",
        "               ON DELETE SET NULL,\n",
        "               FOREIGN KEY (clinicNo) REFERENCES Clinic(clinicNo) ON UPDATE CASCADE\n",
        "            );\"\"\"\n",
        "\n",
        "cursor.execute(createPet)"
      ],
      "metadata": {
        "colab": {
          "base_uri": "https://localhost:8080/"
        },
        "id": "kVrHiCGp3ggL",
        "outputId": "3d977e09-727e-4685-9973-a1e0a5f809cf"
      },
      "execution_count": 623,
      "outputs": [
        {
          "output_type": "execute_result",
          "data": {
            "text/plain": [
              "<sqlite3.Cursor at 0x7f0f83177dc0>"
            ]
          },
          "metadata": {},
          "execution_count": 623
        }
      ]
    },
    {
      "cell_type": "code",
      "source": [
        "#creating Examination relation\n",
        "createExam = \"\"\"CREATE TABLE Examination(\n",
        "                examNo VARCHAR(4) UNIQUE NOT NULL,\n",
        "                staffNo VARCHAR(4) NOT NULL,\n",
        "                petNo VARCHAR(4) NOT NULL,\n",
        "                chiefComplaint VARCHAR(250) NOT NULL,\n",
        "                description VARCHAR(250) NOT NULL,\n",
        "                dateSeen DATE NOT NULL\n",
        "                  CONSTRAINT validExamDate\n",
        "                    CHECK (dateSeen <= date('now')),\n",
        "                actionsTaken VARCHAR(250),\n",
        "                PRIMARY KEY (examNo),\n",
        "                FOREIGN KEY (staffNo) REFERENCES Staff(staffNo) ON UPDATE CASCADE,\n",
        "                FOREIGN KEY (petNo) REFERENCES Pet(petNo) ON UPDATE CASCADE\n",
        "            );\"\"\"\n",
        "\n",
        "cursor.execute(createExam)"
      ],
      "metadata": {
        "colab": {
          "base_uri": "https://localhost:8080/"
        },
        "id": "nl22JZy94gDj",
        "outputId": "200b7d19-ae76-4644-f9c2-c34aec1ec880"
      },
      "execution_count": 624,
      "outputs": [
        {
          "output_type": "execute_result",
          "data": {
            "text/plain": [
              "<sqlite3.Cursor at 0x7f0f83177dc0>"
            ]
          },
          "metadata": {},
          "execution_count": 624
        }
      ]
    },
    {
      "cell_type": "markdown",
      "source": [
        "Specifying Foreign Key Constraint for Clinic"
      ],
      "metadata": {
        "id": "SQBgPlIoLt6N"
      }
    },
    {
      "cell_type": "code",
      "source": [
        "alterClinic = \"\"\"ALTER TABLE Clinic\n",
        "                ADD COLUMN staffNo INT\n",
        "                REFERENCES Staff(staffNo) ON UPDATE CASCADE ON DELETE CASCADE;\"\"\"\n",
        "\n",
        "cursor.execute(alterClinic)"
      ],
      "metadata": {
        "colab": {
          "base_uri": "https://localhost:8080/"
        },
        "id": "WG8ebz5sLWSP",
        "outputId": "43be28c2-1c9a-418a-a339-94b781c06c1d"
      },
      "execution_count": 625,
      "outputs": [
        {
          "output_type": "execute_result",
          "data": {
            "text/plain": [
              "<sqlite3.Cursor at 0x7f0f83177dc0>"
            ]
          },
          "metadata": {},
          "execution_count": 625
        }
      ]
    },
    {
      "cell_type": "markdown",
      "source": [
        "Inserting Tuples Into Each Relation"
      ],
      "metadata": {
        "id": "jblTwO7y7vpL"
      }
    },
    {
      "cell_type": "code",
      "source": [
        "#inserting tuples into Clinic relation \n",
        "insertClinic = \"\"\"INSERT INTO Clinic\t\n",
        "                  VALUES ('BA210', 'Big Apple Pet Clinic', '111 NY Ave', \n",
        "                          6461234567, 'R541'),\n",
        "                         ('PM132', 'Pawsome Manhattan Pet Clinic', \n",
        "                          '341 Union Square', 6460987654, 'J592'),\n",
        "                         ('BB520', 'Brooklyn Buddies Pet Clinic', \n",
        "                          '331 Bushwick Blvd', 6466788907, 'C522'),\n",
        "                         ('PA324', 'Pawsome Arlington Pet Clinic', \n",
        "                          '555 Arlington Ave', 6461233214, 'S543'),\n",
        "                         ('NY102', 'New Yorkies Pet Clinic', '728 Glendale St', \n",
        "                          6465438695, 'L568');\"\"\"\n",
        "\n",
        "cursor.execute(insertClinic)"
      ],
      "metadata": {
        "colab": {
          "base_uri": "https://localhost:8080/"
        },
        "id": "5xwhCfC0yqg3",
        "outputId": "471d20b9-6586-4b99-fbac-bc10db777756"
      },
      "execution_count": 626,
      "outputs": [
        {
          "output_type": "execute_result",
          "data": {
            "text/plain": [
              "<sqlite3.Cursor at 0x7f0f83177dc0>"
            ]
          },
          "metadata": {},
          "execution_count": 626
        }
      ]
    },
    {
      "cell_type": "code",
      "source": [
        "#inserting tuples into Staff relation\n",
        "insertStaff = \"\"\"INSERT INTO Staff\n",
        "                 VALUES ('E115', 'BB520', 'Emma Emerson', '723 Bushwick Blvd', \n",
        "                         9543251923, '2000-06-11', 'Staff', 60000),\n",
        "                        ('J592', 'BA210', 'Jenny Jenkins', '229 Pizza Pl', \n",
        "                         7866123456, '1977-02-10', 'Manager', 95000),\n",
        "                        ('J122', 'PA324', 'John Johnson', '284 Anchor Ave', \n",
        "                         3050987654, '1982-03-25', 'Staff', 70000),\n",
        "                        ('R541', 'PM132', 'Robert Roberts', '897 Bear Rd', \n",
        "                         6461112343, '1992-05-04', 'Manager', 85000),\n",
        "                        ('S788', 'BA210', 'Steven Stephens', '909 Subway St', \n",
        "                         9544590080, '1982-06-04', 'Staff', 82000),\n",
        "                        ('W194', 'NY102', 'Willa Williams', '526 Glendale St', \n",
        "                         6469994432, '1970-10-10', 'Staff', 75000),\n",
        "                        ('L568', 'NY102', 'Liam Leon', '314 Subway St', \n",
        "                         6460525731, '1979-07-22', 'Manager', 90000);\"\"\"\n",
        "\n",
        "cursor.execute(insertStaff)"
      ],
      "metadata": {
        "id": "dHOhMehS6q25",
        "colab": {
          "base_uri": "https://localhost:8080/"
        },
        "outputId": "d7d77f38-cd08-4d5f-f156-de5531a0dfd1"
      },
      "execution_count": 627,
      "outputs": [
        {
          "output_type": "execute_result",
          "data": {
            "text/plain": [
              "<sqlite3.Cursor at 0x7f0f83177dc0>"
            ]
          },
          "metadata": {},
          "execution_count": 627
        }
      ]
    },
    {
      "cell_type": "code",
      "source": [
        "#inserting tuples into Owner relation\n",
        "insertOwner = \"\"\"INSERT INTO Owner\n",
        "                 VALUES ('MM352', 'Mickey Michaels', '225 Bay St', \n",
        "                         9546557890),\n",
        "                        ('CC248', 'Cristina Christens', '314 Subway St', \n",
        "                         3055039876),\n",
        "                        ('JJ225', 'James Jameson', '516 NY Ave', 7887623425),\n",
        "                        ('DD912', 'Diego Delgado', '182 Anchor Ave', 3050123210),\n",
        "                        ('MM410', 'Martina Martinez', '837 Buschwick Blvd', \n",
        "                         6468769090);\"\"\"\n",
        "\n",
        "cursor.execute(insertOwner)"
      ],
      "metadata": {
        "id": "mCPR2kvFBfy-",
        "colab": {
          "base_uri": "https://localhost:8080/"
        },
        "outputId": "9e0c662b-d6bd-4402-9e12-8accd2bb4399"
      },
      "execution_count": 628,
      "outputs": [
        {
          "output_type": "execute_result",
          "data": {
            "text/plain": [
              "<sqlite3.Cursor at 0x7f0f83177dc0>"
            ]
          },
          "metadata": {},
          "execution_count": 628
        }
      ]
    },
    {
      "cell_type": "code",
      "source": [
        "#inserting tuples into Pet relation\n",
        "insertPet = \"\"\"INSERT INTO Pet\n",
        "               VALUES ('D320', 'DD912', 'PA324', 'Bo', '2018-01-17', 'Dog', \n",
        "                       'Cane Corso', 'Black'),\n",
        "                      ('C100', 'CC248', 'NY102', 'Misty', '2020-08-02', 'Cat', \n",
        "                       'Ragdoll', 'Colorpoint'),\n",
        "                      ('D283', 'MM352', 'BB520', 'Fluffy', '2016-04-12', 'Dog', \n",
        "                       'Pomeranian', 'Cream'),\n",
        "                      ('H101', 'JJ225', 'BA210', 'Ad', '2021-11-25', 'Hamster', \n",
        "                       'Syrian', 'Gold'),\n",
        "                      ('C205', 'MM410', 'PM132', 'Lady', '2017-05-04', 'Cat', \n",
        "                       'Siamese', 'Seal Point'),\n",
        "                      ('H121', 'JJ225', 'BA210', 'Simon', '2021-10-21', \n",
        "                       'Hamster', 'Syrian', 'Gold'),\n",
        "                      ('D375', 'CC248', 'NY102', 'Ham', '2017-11-02', 'Dog', \n",
        "                       'French Bulldog', 'Blonde');\"\"\"\n",
        "\n",
        "cursor.execute(insertPet)"
      ],
      "metadata": {
        "id": "8vDyPZh6IADE",
        "colab": {
          "base_uri": "https://localhost:8080/"
        },
        "outputId": "bfa7db5f-f198-4676-a36c-12171662290c"
      },
      "execution_count": 629,
      "outputs": [
        {
          "output_type": "execute_result",
          "data": {
            "text/plain": [
              "<sqlite3.Cursor at 0x7f0f83177dc0>"
            ]
          },
          "metadata": {},
          "execution_count": 629
        }
      ]
    },
    {
      "cell_type": "code",
      "source": [
        "#inserting tuples into Examination relation\n",
        "insertExam = \"\"\"INSERT INTO Examination\n",
        "                VALUES ('A580', 'E115', 'H101', 'Annual', 'Routine checkup', \n",
        "                        '2022-06-11', NULL),\n",
        "                       ('A602', 'J122', 'D283', 'Annual', 'Routine checkup, ear infection found', \n",
        "                        '2021-06-08', 'Prescribed antibiotics'),\n",
        "                       ('X229', 'E115', 'D320', 'Leg pain, limping', 'XRay front left leg', \n",
        "                        '2019-01-19', 'Cast, prescribed pain medication'),\n",
        "                       ('A849', 'W194', 'C205', 'Annual', 'Routine checkup', \n",
        "                        '2022-09-28', NULL),\n",
        "                       ('X300', 'S788', 'D375', 'Limping', 'XRay back left leg', \n",
        "                        '2020-12-07', 'Cast, prescribed pain medication'),\n",
        "                       ('S113', 'W194', 'C100', 'Swallowed buttons', \n",
        "                        'Induced vomiting', '2018-09-24', NULL);\"\"\"\n",
        "\n",
        "cursor.execute(insertExam)"
      ],
      "metadata": {
        "id": "f61lAnlJIWgR",
        "colab": {
          "base_uri": "https://localhost:8080/"
        },
        "outputId": "de7d8018-4d88-4779-9a21-d9dba03e3fce"
      },
      "execution_count": 630,
      "outputs": [
        {
          "output_type": "execute_result",
          "data": {
            "text/plain": [
              "<sqlite3.Cursor at 0x7f0f83177dc0>"
            ]
          },
          "metadata": {},
          "execution_count": 630
        }
      ]
    },
    {
      "cell_type": "markdown",
      "source": [
        "Printing Relations as pandas Dataframes"
      ],
      "metadata": {
        "id": "eQJIrMwYCgrD"
      }
    },
    {
      "cell_type": "markdown",
      "source": [
        "Clinic"
      ],
      "metadata": {
        "id": "mrwJC7NoG93e"
      }
    },
    {
      "cell_type": "code",
      "source": [
        "#selecting values in Clinic\n",
        "selectAllClinicValues = \"\"\"SELECT clinicNo, name, address, telephoneNumber, \n",
        "                        staffNo AS managerNo\n",
        "                        FROM Clinic\"\"\"\n",
        "\n",
        "cursor.execute(selectAllClinicValues)"
      ],
      "metadata": {
        "id": "OyX9AY7Q08eP",
        "colab": {
          "base_uri": "https://localhost:8080/"
        },
        "outputId": "32c0de5a-af54-41b0-da80-e5a98d98c351"
      },
      "execution_count": 631,
      "outputs": [
        {
          "output_type": "execute_result",
          "data": {
            "text/plain": [
              "<sqlite3.Cursor at 0x7f0f83177dc0>"
            ]
          },
          "metadata": {},
          "execution_count": 631
        }
      ]
    },
    {
      "cell_type": "code",
      "source": [
        "#creating/printing pandas dataframe for Clinic\n",
        "col_names = [row[0] for row in cursor.description]\n",
        "\n",
        "table_data = cursor.fetchall()\n",
        "df = pd.DataFrame(table_data, columns = col_names)\n",
        "print(df)"
      ],
      "metadata": {
        "id": "7ZlKnMfc1IEC",
        "colab": {
          "base_uri": "https://localhost:8080/"
        },
        "outputId": "a2913650-248b-456a-ba30-3369703fe0f5"
      },
      "execution_count": 632,
      "outputs": [
        {
          "output_type": "stream",
          "name": "stdout",
          "text": [
            "  clinicNo                          name            address  telephoneNumber  \\\n",
            "0    BA210          Big Apple Pet Clinic         111 NY Ave       6461234567   \n",
            "1    PM132  Pawsome Manhattan Pet Clinic   341 Union Square       6460987654   \n",
            "2    BB520   Brooklyn Buddies Pet Clinic  331 Bushwick Blvd       6466788907   \n",
            "3    PA324  Pawsome Arlington Pet Clinic  555 Arlington Ave       6461233214   \n",
            "4    NY102        New Yorkies Pet Clinic    728 Glendale St       6465438695   \n",
            "\n",
            "  managerNo  \n",
            "0      R541  \n",
            "1      J592  \n",
            "2      C522  \n",
            "3      S543  \n",
            "4      L568  \n"
          ]
        }
      ]
    },
    {
      "cell_type": "code",
      "source": [
        "df.columns"
      ],
      "metadata": {
        "id": "tGZK6O4HDyVw",
        "colab": {
          "base_uri": "https://localhost:8080/"
        },
        "outputId": "64b57136-0031-42c3-e075-b28d46a56e26"
      },
      "execution_count": 633,
      "outputs": [
        {
          "output_type": "execute_result",
          "data": {
            "text/plain": [
              "Index(['clinicNo', 'name', 'address', 'telephoneNumber', 'managerNo'], dtype='object')"
            ]
          },
          "metadata": {},
          "execution_count": 633
        }
      ]
    },
    {
      "cell_type": "markdown",
      "source": [
        "Staff"
      ],
      "metadata": {
        "id": "KbaaPlE0HBMI"
      }
    },
    {
      "cell_type": "code",
      "source": [
        "#selecting values in Staff\n",
        "selectAllStaffValues = \"\"\"SELECT *\n",
        "                       FROM Staff\"\"\"\n",
        "\n",
        "cursor.execute(selectAllStaffValues)"
      ],
      "metadata": {
        "id": "r1C1PEERCoDG",
        "colab": {
          "base_uri": "https://localhost:8080/"
        },
        "outputId": "4a633711-6144-4c4a-b091-43f8a39bb0b7"
      },
      "execution_count": 634,
      "outputs": [
        {
          "output_type": "execute_result",
          "data": {
            "text/plain": [
              "<sqlite3.Cursor at 0x7f0f83177dc0>"
            ]
          },
          "metadata": {},
          "execution_count": 634
        }
      ]
    },
    {
      "cell_type": "code",
      "source": [
        "#creating/printing pandas dataframe for Staff\n",
        "col_names = [row[0] for row in cursor.description]\n",
        "\n",
        "table_data = cursor.fetchall()\n",
        "df = pd.DataFrame(table_data, columns = col_names)\n",
        "print(df)"
      ],
      "metadata": {
        "id": "tcoYbS-lDvHv",
        "colab": {
          "base_uri": "https://localhost:8080/"
        },
        "outputId": "074ae0ef-6700-42a0-8d09-ad63eddd8ee2"
      },
      "execution_count": 635,
      "outputs": [
        {
          "output_type": "stream",
          "name": "stdout",
          "text": [
            "  staffNo clinicNo             name            address  telephoneNumber  \\\n",
            "0    E115    BB520     Emma Emerson  723 Bushwick Blvd       9543251923   \n",
            "1    J592    BA210    Jenny Jenkins       229 Pizza Pl       7866123456   \n",
            "2    J122    PA324     John Johnson     284 Anchor Ave       3050987654   \n",
            "3    R541    PM132   Robert Roberts        897 Bear Rd       6461112343   \n",
            "4    S788    BA210  Steven Stephens      909 Subway St       9544590080   \n",
            "5    W194    NY102   Willa Williams    526 Glendale St       6469994432   \n",
            "6    L568    NY102        Liam Leon      314 Subway St       6460525731   \n",
            "\n",
            "          DOB position  salary  \n",
            "0  2000-06-11    Staff   60000  \n",
            "1  1977-02-10  Manager   95000  \n",
            "2  1982-03-25    Staff   70000  \n",
            "3  1992-05-04  Manager   85000  \n",
            "4  1982-06-04    Staff   82000  \n",
            "5  1970-10-10    Staff   75000  \n",
            "6  1979-07-22  Manager   90000  \n"
          ]
        }
      ]
    },
    {
      "cell_type": "code",
      "source": [
        "df.columns"
      ],
      "metadata": {
        "id": "2viynH_mDwVS",
        "colab": {
          "base_uri": "https://localhost:8080/"
        },
        "outputId": "b12b5ff6-b92f-4c2b-fc48-305437a9fd6f"
      },
      "execution_count": 636,
      "outputs": [
        {
          "output_type": "execute_result",
          "data": {
            "text/plain": [
              "Index(['staffNo', 'clinicNo', 'name', 'address', 'telephoneNumber', 'DOB',\n",
              "       'position', 'salary'],\n",
              "      dtype='object')"
            ]
          },
          "metadata": {},
          "execution_count": 636
        }
      ]
    },
    {
      "cell_type": "markdown",
      "source": [
        "Owner"
      ],
      "metadata": {
        "id": "dB3tAW911iQU"
      }
    },
    {
      "cell_type": "code",
      "source": [
        "#selecting values in Owner\n",
        "selectAllOwnerValues = \"\"\"SELECT *\n",
        "                       FROM Owner\"\"\"\n",
        "\n",
        "cursor.execute(selectAllOwnerValues)"
      ],
      "metadata": {
        "colab": {
          "base_uri": "https://localhost:8080/"
        },
        "id": "7Tsj3fj81l49",
        "outputId": "0eb30da0-dbd8-4503-c4f9-e1fc12309771"
      },
      "execution_count": 637,
      "outputs": [
        {
          "output_type": "execute_result",
          "data": {
            "text/plain": [
              "<sqlite3.Cursor at 0x7f0f83177dc0>"
            ]
          },
          "metadata": {},
          "execution_count": 637
        }
      ]
    },
    {
      "cell_type": "code",
      "source": [
        "#creating/printing pandas dataframe for Owner\n",
        "col_names = [row[0] for row in cursor.description]\n",
        "\n",
        "table_data = cursor.fetchall()\n",
        "df = pd.DataFrame(table_data, columns = col_names)\n",
        "print(df)"
      ],
      "metadata": {
        "colab": {
          "base_uri": "https://localhost:8080/"
        },
        "id": "6_iL-zsr12Kk",
        "outputId": "60ad15f8-de5e-4a15-eec7-eac73db23a66"
      },
      "execution_count": 638,
      "outputs": [
        {
          "output_type": "stream",
          "name": "stdout",
          "text": [
            "  ownerNo                name             address  telephoneNumber\n",
            "0   MM352     Mickey Michaels          225 Bay St       9546557890\n",
            "1   CC248  Cristina Christens       314 Subway St       3055039876\n",
            "2   JJ225       James Jameson          516 NY Ave       7887623425\n",
            "3   DD912       Diego Delgado      182 Anchor Ave       3050123210\n",
            "4   MM410    Martina Martinez  837 Buschwick Blvd       6468769090\n"
          ]
        }
      ]
    },
    {
      "cell_type": "code",
      "source": [
        "df.columns"
      ],
      "metadata": {
        "colab": {
          "base_uri": "https://localhost:8080/"
        },
        "id": "zaNUGlZG16tr",
        "outputId": "3aeaf00d-452a-46ef-9e69-c8dfd1c0e84c"
      },
      "execution_count": 639,
      "outputs": [
        {
          "output_type": "execute_result",
          "data": {
            "text/plain": [
              "Index(['ownerNo', 'name', 'address', 'telephoneNumber'], dtype='object')"
            ]
          },
          "metadata": {},
          "execution_count": 639
        }
      ]
    },
    {
      "cell_type": "markdown",
      "source": [
        "Pet"
      ],
      "metadata": {
        "id": "NByVEtdF1nBg"
      }
    },
    {
      "cell_type": "code",
      "source": [
        "#selecting values in Pet\n",
        "selectAllPetValues = \"\"\"SELECT *\n",
        "                        FROM Pet\"\"\"\n",
        "\n",
        "cursor.execute(selectAllPetValues)"
      ],
      "metadata": {
        "colab": {
          "base_uri": "https://localhost:8080/"
        },
        "id": "GtdAypok1mVP",
        "outputId": "189eea51-94e5-4885-f669-f2d4c1d15a59"
      },
      "execution_count": 640,
      "outputs": [
        {
          "output_type": "execute_result",
          "data": {
            "text/plain": [
              "<sqlite3.Cursor at 0x7f0f83177dc0>"
            ]
          },
          "metadata": {},
          "execution_count": 640
        }
      ]
    },
    {
      "cell_type": "code",
      "source": [
        "#creating/printing pandas dataframe for Pet\n",
        "col_names = [row[0] for row in cursor.description]\n",
        "\n",
        "table_data = cursor.fetchall()\n",
        "df = pd.DataFrame(table_data, columns = col_names)\n",
        "print(df)"
      ],
      "metadata": {
        "colab": {
          "base_uri": "https://localhost:8080/"
        },
        "id": "mwciflQ92OY0",
        "outputId": "09d06669-3b59-42ec-9ed1-e38e54a8831d"
      },
      "execution_count": 641,
      "outputs": [
        {
          "output_type": "stream",
          "name": "stdout",
          "text": [
            "  petNo ownerNo clinicNo    name         DOB  species           breed  \\\n",
            "0  D320   DD912    PA324      Bo  2018-01-17      Dog      Cane Corso   \n",
            "1  C100   CC248    NY102   Misty  2020-08-02      Cat         Ragdoll   \n",
            "2  D283   MM352    BB520  Fluffy  2016-04-12      Dog      Pomeranian   \n",
            "3  H101   JJ225    BA210      Ad  2021-11-25  Hamster          Syrian   \n",
            "4  C205   MM410    PM132    Lady  2017-05-04      Cat         Siamese   \n",
            "5  H121   JJ225    BA210   Simon  2021-10-21  Hamster          Syrian   \n",
            "6  D375   CC248    NY102     Ham  2017-11-02      Dog  French Bulldog   \n",
            "\n",
            "        color  \n",
            "0       Black  \n",
            "1  Colorpoint  \n",
            "2       Cream  \n",
            "3        Gold  \n",
            "4  Seal Point  \n",
            "5        Gold  \n",
            "6      Blonde  \n"
          ]
        }
      ]
    },
    {
      "cell_type": "code",
      "source": [
        "df.columns"
      ],
      "metadata": {
        "colab": {
          "base_uri": "https://localhost:8080/"
        },
        "id": "tqPObrbD2VCt",
        "outputId": "d4c01252-db25-4c61-8728-80d07cefc23c"
      },
      "execution_count": 642,
      "outputs": [
        {
          "output_type": "execute_result",
          "data": {
            "text/plain": [
              "Index(['petNo', 'ownerNo', 'clinicNo', 'name', 'DOB', 'species', 'breed',\n",
              "       'color'],\n",
              "      dtype='object')"
            ]
          },
          "metadata": {},
          "execution_count": 642
        }
      ]
    },
    {
      "cell_type": "markdown",
      "source": [
        "Examination"
      ],
      "metadata": {
        "id": "B1guntUM1ooj"
      }
    },
    {
      "cell_type": "code",
      "source": [
        "#selecting values in Examination\n",
        "selectAllExamValues = \"\"\"SELECT *\n",
        "                         FROM Examination\"\"\"\n",
        "\n",
        "cursor.execute(selectAllExamValues)"
      ],
      "metadata": {
        "colab": {
          "base_uri": "https://localhost:8080/"
        },
        "id": "HjpK-YkU1oR6",
        "outputId": "5b247e19-65a0-404b-a540-54cf47caae43"
      },
      "execution_count": 643,
      "outputs": [
        {
          "output_type": "execute_result",
          "data": {
            "text/plain": [
              "<sqlite3.Cursor at 0x7f0f83177dc0>"
            ]
          },
          "metadata": {},
          "execution_count": 643
        }
      ]
    },
    {
      "cell_type": "code",
      "source": [
        "#creating/printing pandas dataframe for Examination\n",
        "col_names = [row[0] for row in cursor.description]\n",
        "\n",
        "table_data = cursor.fetchall()\n",
        "df = pd.DataFrame(table_data, columns = col_names)\n",
        "print(df)"
      ],
      "metadata": {
        "colab": {
          "base_uri": "https://localhost:8080/"
        },
        "id": "6vLojkVx2gS0",
        "outputId": "1d093a57-b6d7-492a-a926-34e70eaecf69"
      },
      "execution_count": 644,
      "outputs": [
        {
          "output_type": "stream",
          "name": "stdout",
          "text": [
            "  examNo staffNo petNo     chiefComplaint  \\\n",
            "0   A580    E115  H101             Annual   \n",
            "1   A602    J122  D283             Annual   \n",
            "2   X229    E115  D320  Leg pain, limping   \n",
            "3   A849    W194  C205             Annual   \n",
            "4   X300    S788  D375            Limping   \n",
            "5   S113    W194  C100  Swallowed buttons   \n",
            "\n",
            "                            description    dateSeen  \\\n",
            "0                       Routine checkup  2022-06-11   \n",
            "1  Routine checkup, ear infection found  2021-06-08   \n",
            "2                   XRay front left leg  2019-01-19   \n",
            "3                       Routine checkup  2022-09-28   \n",
            "4                    XRay back left leg  2020-12-07   \n",
            "5                      Induced vomiting  2018-09-24   \n",
            "\n",
            "                       actionsTaken  \n",
            "0                              None  \n",
            "1            Prescribed antibiotics  \n",
            "2  Cast, prescribed pain medication  \n",
            "3                              None  \n",
            "4  Cast, prescribed pain medication  \n",
            "5                              None  \n"
          ]
        }
      ]
    },
    {
      "cell_type": "code",
      "source": [
        "df.columns"
      ],
      "metadata": {
        "colab": {
          "base_uri": "https://localhost:8080/"
        },
        "id": "x2ypGjEj2jdp",
        "outputId": "e41741f4-6148-4e1d-96bc-790ae043eba8"
      },
      "execution_count": 645,
      "outputs": [
        {
          "output_type": "execute_result",
          "data": {
            "text/plain": [
              "Index(['examNo', 'staffNo', 'petNo', 'chiefComplaint', 'description',\n",
              "       'dateSeen', 'actionsTaken'],\n",
              "      dtype='object')"
            ]
          },
          "metadata": {},
          "execution_count": 645
        }
      ]
    },
    {
      "cell_type": "markdown",
      "source": [
        "Querying Values from Relations"
      ],
      "metadata": {
        "id": "wbpH27PEOODT"
      }
    },
    {
      "cell_type": "markdown",
      "source": [
        "Info is printed as a pandas dataframe for easy viewing"
      ],
      "metadata": {
        "id": "5qFa04MnbHOY"
      }
    },
    {
      "cell_type": "code",
      "source": [
        "#Q: Find how many pets owner number JJ225 owns.\n",
        "queryNumPets = \"\"\"SELECT o.ownerNo, COUNT(petNo) AS petCount\n",
        "                  FROM OWNER o, PET p\n",
        "                  WHERE o.ownerNo = p.ownerNo\n",
        "                  AND o.ownerNo = 'JJ225';\"\"\"\n",
        "\n",
        "cursor.execute(queryNumPets)\n",
        "\n",
        "#printing answer\n",
        "col_names = [row[0] for row in cursor.description]\n",
        "table_data = cursor.fetchall()\n",
        "df = pd.DataFrame(table_data, columns = col_names)\n",
        "print(df)"
      ],
      "metadata": {
        "id": "RxwQlGI_ADqo",
        "colab": {
          "base_uri": "https://localhost:8080/"
        },
        "outputId": "d9a95aed-e059-4beb-e833-4d3f6182a7c3"
      },
      "execution_count": 646,
      "outputs": [
        {
          "output_type": "stream",
          "name": "stdout",
          "text": [
            "  ownerNo  petCount\n",
            "0   JJ225         2\n"
          ]
        }
      ]
    },
    {
      "cell_type": "code",
      "source": [
        "#Q: Find how many dogs are registered in clinic number NY102.\n",
        "queryRegisteredDogs = \"\"\"SELECT c.clinicNo, species, COUNT(petNo) AS dogCount\n",
        "                         FROM CLINIC c, PET p\n",
        "                         WHERE c.clinicNo = p.clinicNo\n",
        "                         AND c.clinicNo = 'NY102'\n",
        "                         AND species = 'Dog';\"\"\"\n",
        "\n",
        "cursor.execute(queryRegisteredDogs)\n",
        "\n",
        "#printing answer\n",
        "col_names = [row[0] for row in cursor.description]\n",
        "table_data = cursor.fetchall()\n",
        "df = pd.DataFrame(table_data, columns = col_names)\n",
        "print(df)"
      ],
      "metadata": {
        "id": "GkZCwJqVAfEs",
        "colab": {
          "base_uri": "https://localhost:8080/"
        },
        "outputId": "1ecdc89d-11fa-4caf-ebf1-465f937c3f77"
      },
      "execution_count": 647,
      "outputs": [
        {
          "output_type": "stream",
          "name": "stdout",
          "text": [
            "  clinicNo species  dogCount\n",
            "0    NY102     Dog         1\n"
          ]
        }
      ]
    },
    {
      "cell_type": "code",
      "source": [
        "#Q: Find the average salary of the staff in Big Apple Pet Clinic.\n",
        "queryAvgSalary = \"\"\"SELECT c.name, AVG(salary) AS avgStaffSalary\n",
        "                    FROM CLINIC c, STAFF s\n",
        "                    WHERE c.clinicNo = s.clinicNo\n",
        "                    AND c.name = 'Big Apple Pet Clinic';\"\"\"\n",
        "\n",
        "cursor.execute(queryAvgSalary)\n",
        "\n",
        "#printing answer\n",
        "col_names = [row[0] for row in cursor.description]\n",
        "table_data = cursor.fetchall()\n",
        "df = pd.DataFrame(table_data, columns = col_names)\n",
        "print(df)"
      ],
      "metadata": {
        "id": "ZdBerAcVA8mE",
        "colab": {
          "base_uri": "https://localhost:8080/"
        },
        "outputId": "b4de5c66-cc52-4f4c-b18f-2f424940891f"
      },
      "execution_count": 648,
      "outputs": [
        {
          "output_type": "stream",
          "name": "stdout",
          "text": [
            "                   name  avgStaffSalary\n",
            "0  Big Apple Pet Clinic         88500.0\n"
          ]
        }
      ]
    },
    {
      "cell_type": "code",
      "source": [
        "#Q: List the names and species of the pets that have had annual checkups in 2022.\n",
        "queryAnnuals = \"\"\"SELECT dateSeen, chiefComplaint, name, species\n",
        "                  FROM PET p, EXAMINATION e\n",
        "                  WHERE p.petNo = e.petNo\n",
        "                  AND chiefComplaint = 'Annual'\n",
        "                  AND dateSeen LIKE '2022%';\"\"\"\n",
        "\n",
        "cursor.execute(queryAnnuals)\n",
        "\n",
        "#printing answer\n",
        "col_names = [row[0] for row in cursor.description]\n",
        "table_data = cursor.fetchall()\n",
        "df = pd.DataFrame(table_data, columns = col_names)\n",
        "print(df)"
      ],
      "metadata": {
        "id": "7QVcP9VjBBA4",
        "colab": {
          "base_uri": "https://localhost:8080/"
        },
        "outputId": "b82de57e-c526-4cc0-bda5-a063f7b20233"
      },
      "execution_count": 649,
      "outputs": [
        {
          "output_type": "stream",
          "name": "stdout",
          "text": [
            "     dateSeen chiefComplaint  name  species\n",
            "0  2022-06-11         Annual    Ad  Hamster\n",
            "1  2022-09-28         Annual  Lady      Cat\n"
          ]
        }
      ]
    },
    {
      "cell_type": "code",
      "source": [
        "#Q: List the names and positions of the staff members who have performed X-Rays\n",
        "#   and the actions taken at the end of those examinations.\n",
        "queryXRays = \"\"\"SELECT name, position, description, actionsTaken\n",
        "                FROM STAFF s, EXAMINATION e\n",
        "                WHERE s.staffNo = e.staffNo\n",
        "                AND description LIKE '%XRay%';\"\"\"\n",
        "\n",
        "cursor.execute(queryXRays)\n",
        "\n",
        "#printing answer\n",
        "col_names = [row[0] for row in cursor.description]\n",
        "table_data = cursor.fetchall()\n",
        "df = pd.DataFrame(table_data, columns = col_names)\n",
        "print(df)"
      ],
      "metadata": {
        "id": "ReeiNfRcBHTw",
        "colab": {
          "base_uri": "https://localhost:8080/"
        },
        "outputId": "b00dbd30-9b59-4051-8a9f-fcc1be72ffb4"
      },
      "execution_count": 650,
      "outputs": [
        {
          "output_type": "stream",
          "name": "stdout",
          "text": [
            "              name position          description  \\\n",
            "0     Emma Emerson    Staff  XRay front left leg   \n",
            "1  Steven Stephens    Staff   XRay back left leg   \n",
            "\n",
            "                       actionsTaken  \n",
            "0  Cast, prescribed pain medication  \n",
            "1  Cast, prescribed pain medication  \n"
          ]
        }
      ]
    },
    {
      "cell_type": "markdown",
      "source": [
        "Closing Database"
      ],
      "metadata": {
        "id": "iYCFvClWPOFd"
      }
    },
    {
      "cell_type": "code",
      "source": [
        "#committing any changes to the database\n",
        "db_connect.commit()"
      ],
      "metadata": {
        "id": "SNEWFtLCgBd6"
      },
      "execution_count": 651,
      "outputs": []
    },
    {
      "cell_type": "code",
      "source": [
        "#closing connection when done to be sure changes committed, else lost\n",
        "db_connect.close()"
      ],
      "metadata": {
        "id": "ZXKkxyyJgF_o"
      },
      "execution_count": 652,
      "outputs": []
    }
  ]
}