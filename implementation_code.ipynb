{
  "nbformat": 4,
  "nbformat_minor": 0,
  "metadata": {
    "colab": {
      "provenance": [],
      "authorship_tag": "ABX9TyO+bbaHcH2Vjo2AkBir2B8Y"
    },
    "kernelspec": {
      "name": "python3",
      "display_name": "Python 3"
    },
    "language_info": {
      "name": "python"
    }
  },
  "cells": [
    {
      "cell_type": "code",
      "execution_count": 653,
      "metadata": {
        "id": "bgjdV3-JHFgo"
      },
      "outputs": [],
      "source": [
        "import sqlite3\n",
        "import pandas as pd"
      ]
    },
    {
      "cell_type": "code",
      "source": [
        "db_connect = sqlite3.connect('PawsomePets.db')\n",
        "cursor = db_connect.cursor()"
      ],
      "metadata": {
        "id": "mvobNBTJyNcs"
      },
      "execution_count": 654,
      "outputs": []
    },
    {
      "cell_type": "markdown",
      "source": [
        "Creating Relations"
      ],
      "metadata": {
        "id": "uxbonHUm7ZPb"
      }
    },
    {
      "cell_type": "code",
      "source": [
        "#creating Clinic relation\n",
        "createClinic = \"\"\"CREATE TABLE Clinic(\t\t\t\n",
        "                  clinicNo VARCHAR(5) UNIQUE NOT NULL,\n",
        "                  name VARCHAR(250) NOT NULL,\n",
        "                  address VARCHAR(250) NOT NULL,\n",
        "                  telephoneNumber INT UNIQUE NOT NULL\n",
        "                    CONSTRAINT validClinicPhone \n",
        "                      CHECK (telephoneNumber BETWEEN 100000000 AND 9999999999),\n",
        "                  PRIMARY KEY (clinicNo)\n",
        "                );\"\"\"\n",
        "\n",
        "cursor.execute(createClinic)"
      ],
      "metadata": {
        "colab": {
          "base_uri": "https://localhost:8080/"
        },
        "id": "bO9m6TWDyUTs",
        "outputId": "03d37719-46a6-4dae-dfa9-0f75af25c977"
      },
      "execution_count": 655,
      "outputs": [
        {
          "output_type": "execute_result",
          "data": {
            "text/plain": [
              "<sqlite3.Cursor at 0x7f0f83153ab0>"
            ]
          },
          "metadata": {},
          "execution_count": 655
        }
      ]
    },
    {
      "cell_type": "code",
      "source": [
        "#creating Staff relation\n",
        "createStaff = \"\"\"CREATE TABLE Staff(\t\t\t\n",
        "                 staffNo VARCHAR(4) UNIQUE NOT NULL,\n",
        "                 clinicNo INT NOT NULL,\n",
        "                 name VARCHAR(250) NOT NULL,\n",
        "                 address VARCHAR(250) NOT NULL,\n",
        "                 telephoneNumber INT UNIQUE NOT NULL\n",
        "                  CONSTRAINT validStaffPhone\n",
        "                    CHECK (telephoneNumber BETWEEN 1000000000 AND 9999999999),\n",
        "                 DOB DATE NOT NULL\n",
        "                  CONSTRAINT validStaffDOB\n",
        "                    CHECK (DOB <= date('now')),\n",
        "                 position VARCHAR(250) NOT NULL,\n",
        "                 salary INT NOT NULL,\n",
        "                 PRIMARY KEY (staffNo),\n",
        "                 FOREIGN KEY (clinicNo) REFERENCES Clinic(clinicNo) ON UPDATE CASCADE\n",
        "              );\"\"\"\n",
        "\n",
        "cursor.execute(createStaff)"
      ],
      "metadata": {
        "colab": {
          "base_uri": "https://localhost:8080/"
        },
        "id": "4hWwgqYw2RpJ",
        "outputId": "15aa66e3-6ab3-450e-8c43-11910e2f1656"
      },
      "execution_count": 656,
      "outputs": [
        {
          "output_type": "execute_result",
          "data": {
            "text/plain": [
              "<sqlite3.Cursor at 0x7f0f83153ab0>"
            ]
          },
          "metadata": {},
          "execution_count": 656
        }
      ]
    },
    {
      "cell_type": "code",
      "source": [
        "#creating Owner relation\n",
        "createOwner = \"\"\"CREATE TABLE Owner(\n",
        "                 ownerNo VARCHAR(5) UNIQUE NOT NULL,\n",
        "                 name VARCHAR(5) NOT NULL,\n",
        "                 address VARCHAR(5) NOT NULL,\n",
        "                 telephoneNumber INT UNIQUE NOT NULL\n",
        "                   CONSTRAINT validOwnerPhone\n",
        "                     CHECK (telephoneNumber BETWEEN 1000000000 AND 9999999999),\n",
        "                 PRIMARY KEY (ownerNo)\n",
        "              );\"\"\"\n",
        "\n",
        "cursor.execute(createOwner)"
      ],
      "metadata": {
        "colab": {
          "base_uri": "https://localhost:8080/"
        },
        "id": "9bbrUtx82znm",
        "outputId": "eb7b9c19-a88f-4356-cf44-64a3abc9caf9"
      },
      "execution_count": 657,
      "outputs": [
        {
          "output_type": "execute_result",
          "data": {
            "text/plain": [
              "<sqlite3.Cursor at 0x7f0f83153ab0>"
            ]
          },
          "metadata": {},
          "execution_count": 657
        }
      ]
    },
    {
      "cell_type": "code",
      "source": [
        "#creating Pet relation\n",
        "createPet = \"\"\"CREATE TABLE Pet(\t\t\n",
        "               petNo VARCHAR(4) UNIQUE NOT NULL,\n",
        "               ownerNo VARCHAR(5) NOT NULL,\n",
        "               clinicNo VARCHAR(5) NOT NULL,\n",
        "               name VARCHAR(250),\n",
        "               DOB DATE NOT NULL\n",
        "                CONSTRAINT validPetDOB\n",
        "                  CHECK (DOB < date('now')),\n",
        "               species VARCHAR(250) NOT NULL,\n",
        "               breed VARCHAR(50) NOT NULL,\n",
        "               color VARCHAR(50) NOT NULL,\n",
        "               PRIMARY KEY (petNo),\n",
        "               FOREIGN KEY (ownerNo) REFERENCES Owner(ownerNo) ON UPDATE CASCADE \n",
        "               ON DELETE SET NULL,\n",
        "               FOREIGN KEY (clinicNo) REFERENCES Clinic(clinicNo) ON UPDATE CASCADE\n",
        "            );\"\"\"\n",
        "\n",
        "cursor.execute(createPet)"
      ],
      "metadata": {
        "colab": {
          "base_uri": "https://localhost:8080/"
        },
        "id": "kVrHiCGp3ggL",
        "outputId": "d47d1bd3-5cb0-43ef-9c03-f0fce3c9fbb0"
      },
      "execution_count": 658,
      "outputs": [
        {
          "output_type": "execute_result",
          "data": {
            "text/plain": [
              "<sqlite3.Cursor at 0x7f0f83153ab0>"
            ]
          },
          "metadata": {},
          "execution_count": 658
        }
      ]
    },
    {
      "cell_type": "code",
      "source": [
        "#creating Examination relation\n",
        "createExam = \"\"\"CREATE TABLE Examination(\n",
        "                examNo VARCHAR(4) UNIQUE NOT NULL,\n",
        "                staffNo VARCHAR(4) NOT NULL,\n",
        "                petNo VARCHAR(4) NOT NULL,\n",
        "                chiefComplaint VARCHAR(250) NOT NULL,\n",
        "                description VARCHAR(250) NOT NULL,\n",
        "                dateSeen DATE NOT NULL\n",
        "                  CONSTRAINT validExamDate\n",
        "                    CHECK (dateSeen <= date('now')),\n",
        "                actionsTaken VARCHAR(250),\n",
        "                PRIMARY KEY (examNo),\n",
        "                FOREIGN KEY (staffNo) REFERENCES Staff(staffNo) ON UPDATE CASCADE,\n",
        "                FOREIGN KEY (petNo) REFERENCES Pet(petNo) ON UPDATE CASCADE\n",
        "            );\"\"\"\n",
        "\n",
        "cursor.execute(createExam)"
      ],
      "metadata": {
        "colab": {
          "base_uri": "https://localhost:8080/"
        },
        "id": "nl22JZy94gDj",
        "outputId": "d937da9a-cb9b-4ae0-b0e0-837aa115aa51"
      },
      "execution_count": 659,
      "outputs": [
        {
          "output_type": "execute_result",
          "data": {
            "text/plain": [
              "<sqlite3.Cursor at 0x7f0f83153ab0>"
            ]
          },
          "metadata": {},
          "execution_count": 659
        }
      ]
    },
    {
      "cell_type": "markdown",
      "source": [
        "Specifying Foreign Key Constraint for Clinic"
      ],
      "metadata": {
        "id": "SQBgPlIoLt6N"
      }
    },
    {
      "cell_type": "code",
      "source": [
        "alterClinic = \"\"\"ALTER TABLE Clinic\n",
        "                ADD COLUMN staffNo INT\n",
        "                REFERENCES Staff(staffNo) ON UPDATE CASCADE ON DELETE CASCADE;\"\"\"\n",
        "\n",
        "cursor.execute(alterClinic)"
      ],
      "metadata": {
        "colab": {
          "base_uri": "https://localhost:8080/"
        },
        "id": "WG8ebz5sLWSP",
        "outputId": "9d8054c0-8422-43d3-95f6-b6eabb63b6f5"
      },
      "execution_count": 660,
      "outputs": [
        {
          "output_type": "execute_result",
          "data": {
            "text/plain": [
              "<sqlite3.Cursor at 0x7f0f83153ab0>"
            ]
          },
          "metadata": {},
          "execution_count": 660
        }
      ]
    },
    {
      "cell_type": "markdown",
      "source": [
        "Inserting Tuples Into Each Relation"
      ],
      "metadata": {
        "id": "jblTwO7y7vpL"
      }
    },
    {
      "cell_type": "code",
      "source": [
        "#inserting tuples into Clinic relation \n",
        "insertClinic = \"\"\"INSERT INTO Clinic\t\n",
        "                  VALUES ('BA210', 'Big Apple Pet Clinic', '111 NY Ave', \n",
        "                          6461234567, 'R541'),\n",
        "                         ('PM132', 'Pawsome Manhattan Pet Clinic', \n",
        "                          '341 Union Square', 6460987654, 'J592'),\n",
        "                         ('BB520', 'Brooklyn Buddies Pet Clinic', \n",
        "                          '331 Bushwick Blvd', 6466788907, 'C522'),\n",
        "                         ('PA324', 'Pawsome Arlington Pet Clinic', \n",
        "                          '555 Arlington Ave', 6461233214, 'S543'),\n",
        "                         ('NY102', 'New Yorkies Pet Clinic', '728 Glendale St', \n",
        "                          6465438695, 'L568');\"\"\"\n",
        "\n",
        "cursor.execute(insertClinic)"
      ],
      "metadata": {
        "colab": {
          "base_uri": "https://localhost:8080/"
        },
        "id": "5xwhCfC0yqg3",
        "outputId": "cef7f7b4-8ed6-4d3a-d56e-9d0aa7796956"
      },
      "execution_count": 661,
      "outputs": [
        {
          "output_type": "execute_result",
          "data": {
            "text/plain": [
              "<sqlite3.Cursor at 0x7f0f83153ab0>"
            ]
          },
          "metadata": {},
          "execution_count": 661
        }
      ]
    },
    {
      "cell_type": "code",
      "source": [
        "#inserting tuples into Staff relation\n",
        "insertStaff = \"\"\"INSERT INTO Staff\n",
        "                 VALUES ('E115', 'BB520', 'Emma Emerson', '723 Bushwick Blvd', \n",
        "                         9543251923, '2000-06-11', 'Staff', 60000),\n",
        "                        ('J592', 'BA210', 'Jenny Jenkins', '229 Pizza Pl', \n",
        "                         7866123456, '1977-02-10', 'Manager', 95000),\n",
        "                        ('J122', 'PA324', 'John Johnson', '284 Anchor Ave', \n",
        "                         3050987654, '1982-03-25', 'Staff', 70000),\n",
        "                        ('R541', 'PM132', 'Robert Roberts', '897 Bear Rd', \n",
        "                         6461112343, '1992-05-04', 'Manager', 85000),\n",
        "                        ('S788', 'BA210', 'Steven Stephens', '909 Subway St', \n",
        "                         9544590080, '1982-06-04', 'Staff', 82000),\n",
        "                        ('W194', 'NY102', 'Willa Williams', '526 Glendale St', \n",
        "                         6469994432, '1970-10-10', 'Staff', 75000),\n",
        "                        ('L568', 'NY102', 'Liam Leon', '314 Subway St', \n",
        "                         6460525731, '1979-07-22', 'Manager', 90000);\"\"\"\n",
        "\n",
        "cursor.execute(insertStaff)"
      ],
      "metadata": {
        "id": "dHOhMehS6q25",
        "colab": {
          "base_uri": "https://localhost:8080/"
        },
        "outputId": "0f4b33c6-6805-4a06-afc3-c03702ced282"
      },
      "execution_count": 662,
      "outputs": [
        {
          "output_type": "execute_result",
          "data": {
            "text/plain": [
              "<sqlite3.Cursor at 0x7f0f83153ab0>"
            ]
          },
          "metadata": {},
          "execution_count": 662
        }
      ]
    },
    {
      "cell_type": "code",
      "source": [
        "#inserting tuples into Owner relation\n",
        "insertOwner = \"\"\"INSERT INTO Owner\n",
        "                 VALUES ('MM352', 'Mickey Michaels', '225 Bay St', \n",
        "                         9546557890),\n",
        "                        ('CC248', 'Cristina Christens', '314 Subway St', \n",
        "                         3055039876),\n",
        "                        ('JJ225', 'James Jameson', '516 NY Ave', 7887623425),\n",
        "                        ('DD912', 'Diego Delgado', '182 Anchor Ave', 3050123210),\n",
        "                        ('MM410', 'Martina Martinez', '837 Buschwick Blvd', \n",
        "                         6468769090);\"\"\"\n",
        "\n",
        "cursor.execute(insertOwner)"
      ],
      "metadata": {
        "id": "mCPR2kvFBfy-",
        "colab": {
          "base_uri": "https://localhost:8080/"
        },
        "outputId": "13feb491-4a96-4246-f82c-90ed199f9c18"
      },
      "execution_count": 663,
      "outputs": [
        {
          "output_type": "execute_result",
          "data": {
            "text/plain": [
              "<sqlite3.Cursor at 0x7f0f83153ab0>"
            ]
          },
          "metadata": {},
          "execution_count": 663
        }
      ]
    },
    {
      "cell_type": "code",
      "source": [
        "#inserting tuples into Pet relation\n",
        "insertPet = \"\"\"INSERT INTO Pet\n",
        "               VALUES ('D320', 'DD912', 'PA324', 'Bo', '2018-01-17', 'Dog', \n",
        "                       'Cane Corso', 'Black'),\n",
        "                      ('C100', 'CC248', 'NY102', 'Misty', '2020-08-02', 'Cat', \n",
        "                       'Ragdoll', 'Colorpoint'),\n",
        "                      ('D283', 'MM352', 'BB520', 'Fluffy', '2016-04-12', 'Dog', \n",
        "                       'Pomeranian', 'Cream'),\n",
        "                      ('H101', 'JJ225', 'BA210', 'Ad', '2021-11-25', 'Hamster', \n",
        "                       'Syrian', 'Gold'),\n",
        "                      ('C205', 'MM410', 'PM132', 'Lady', '2017-05-04', 'Cat', \n",
        "                       'Siamese', 'Seal Point'),\n",
        "                      ('H121', 'JJ225', 'BA210', 'Simon', '2021-10-21', \n",
        "                       'Hamster', 'Syrian', 'Gold'),\n",
        "                      ('D375', 'CC248', 'NY102', 'Ham', '2017-11-02', 'Dog', \n",
        "                       'French Bulldog', 'Blonde');\"\"\"\n",
        "\n",
        "cursor.execute(insertPet)"
      ],
      "metadata": {
        "id": "8vDyPZh6IADE",
        "colab": {
          "base_uri": "https://localhost:8080/"
        },
        "outputId": "1af08a52-3597-4d71-bf14-026a74314590"
      },
      "execution_count": 664,
      "outputs": [
        {
          "output_type": "execute_result",
          "data": {
            "text/plain": [
              "<sqlite3.Cursor at 0x7f0f83153ab0>"
            ]
          },
          "metadata": {},
          "execution_count": 664
        }
      ]
    },
    {
      "cell_type": "code",
      "source": [
        "#inserting tuples into Examination relation\n",
        "insertExam = \"\"\"INSERT INTO Examination\n",
        "                VALUES ('A580', 'E115', 'H101', 'Annual', 'Routine checkup', \n",
        "                        '2022-06-11', NULL),\n",
        "                       ('A602', 'J122', 'D283', 'Annual', 'Routine checkup, ear infection found', \n",
        "                        '2021-06-08', 'Prescribed antibiotics'),\n",
        "                       ('X229', 'E115', 'D320', 'Leg pain, limping', 'XRay front left leg', \n",
        "                        '2019-01-19', 'Cast, prescribed pain medication'),\n",
        "                       ('A849', 'W194', 'C205', 'Annual', 'Routine checkup', \n",
        "                        '2022-09-28', NULL),\n",
        "                       ('X300', 'S788', 'D375', 'Limping', 'XRay back left leg', \n",
        "                        '2020-12-07', 'Cast, prescribed pain medication'),\n",
        "                       ('S113', 'W194', 'C100', 'Swallowed buttons', \n",
        "                        'Induced vomiting', '2018-09-24', NULL);\"\"\"\n",
        "\n",
        "cursor.execute(insertExam)"
      ],
      "metadata": {
        "id": "f61lAnlJIWgR",
        "colab": {
          "base_uri": "https://localhost:8080/"
        },
        "outputId": "c1f35824-0b00-490b-d9bc-7705e5803e10"
      },
      "execution_count": 665,
      "outputs": [
        {
          "output_type": "execute_result",
          "data": {
            "text/plain": [
              "<sqlite3.Cursor at 0x7f0f83153ab0>"
            ]
          },
          "metadata": {},
          "execution_count": 665
        }
      ]
    },
    {
      "cell_type": "markdown",
      "source": [
        "Printing Relations as pandas Dataframes"
      ],
      "metadata": {
        "id": "eQJIrMwYCgrD"
      }
    },
    {
      "cell_type": "markdown",
      "source": [
        "Clinic"
      ],
      "metadata": {
        "id": "mrwJC7NoG93e"
      }
    },
    {
      "cell_type": "code",
      "source": [
        "#selecting values in Clinic\n",
        "selectAllClinicValues = \"\"\"SELECT clinicNo, name, address, telephoneNumber, \n",
        "                        staffNo AS managerNo\n",
        "                        FROM Clinic\"\"\"\n",
        "\n",
        "cursor.execute(selectAllClinicValues)"
      ],
      "metadata": {
        "id": "OyX9AY7Q08eP",
        "colab": {
          "base_uri": "https://localhost:8080/"
        },
        "outputId": "bf83b049-e189-4855-cb00-ff04573f1fd0"
      },
      "execution_count": 666,
      "outputs": [
        {
          "output_type": "execute_result",
          "data": {
            "text/plain": [
              "<sqlite3.Cursor at 0x7f0f83153ab0>"
            ]
          },
          "metadata": {},
          "execution_count": 666
        }
      ]
    },
    {
      "cell_type": "code",
      "source": [
        "#creating/printing pandas dataframe for Clinic\n",
        "col_names = [row[0] for row in cursor.description]\n",
        "\n",
        "table_data = cursor.fetchall()\n",
        "df = pd.DataFrame(table_data, columns = col_names)\n",
        "df"
      ],
      "metadata": {
        "id": "7ZlKnMfc1IEC",
        "colab": {
          "base_uri": "https://localhost:8080/",
          "height": 206
        },
        "outputId": "6e007a20-a645-408a-a968-a80a3f661688"
      },
      "execution_count": 667,
      "outputs": [
        {
          "output_type": "execute_result",
          "data": {
            "text/plain": [
              "  clinicNo                          name            address  telephoneNumber  \\\n",
              "0    BA210          Big Apple Pet Clinic         111 NY Ave       6461234567   \n",
              "1    PM132  Pawsome Manhattan Pet Clinic   341 Union Square       6460987654   \n",
              "2    BB520   Brooklyn Buddies Pet Clinic  331 Bushwick Blvd       6466788907   \n",
              "3    PA324  Pawsome Arlington Pet Clinic  555 Arlington Ave       6461233214   \n",
              "4    NY102        New Yorkies Pet Clinic    728 Glendale St       6465438695   \n",
              "\n",
              "  managerNo  \n",
              "0      R541  \n",
              "1      J592  \n",
              "2      C522  \n",
              "3      S543  \n",
              "4      L568  "
            ],
            "text/html": [
              "\n",
              "  <div id=\"df-000290a0-49f6-4a7b-988d-5afb898d7659\">\n",
              "    <div class=\"colab-df-container\">\n",
              "      <div>\n",
              "<style scoped>\n",
              "    .dataframe tbody tr th:only-of-type {\n",
              "        vertical-align: middle;\n",
              "    }\n",
              "\n",
              "    .dataframe tbody tr th {\n",
              "        vertical-align: top;\n",
              "    }\n",
              "\n",
              "    .dataframe thead th {\n",
              "        text-align: right;\n",
              "    }\n",
              "</style>\n",
              "<table border=\"1\" class=\"dataframe\">\n",
              "  <thead>\n",
              "    <tr style=\"text-align: right;\">\n",
              "      <th></th>\n",
              "      <th>clinicNo</th>\n",
              "      <th>name</th>\n",
              "      <th>address</th>\n",
              "      <th>telephoneNumber</th>\n",
              "      <th>managerNo</th>\n",
              "    </tr>\n",
              "  </thead>\n",
              "  <tbody>\n",
              "    <tr>\n",
              "      <th>0</th>\n",
              "      <td>BA210</td>\n",
              "      <td>Big Apple Pet Clinic</td>\n",
              "      <td>111 NY Ave</td>\n",
              "      <td>6461234567</td>\n",
              "      <td>R541</td>\n",
              "    </tr>\n",
              "    <tr>\n",
              "      <th>1</th>\n",
              "      <td>PM132</td>\n",
              "      <td>Pawsome Manhattan Pet Clinic</td>\n",
              "      <td>341 Union Square</td>\n",
              "      <td>6460987654</td>\n",
              "      <td>J592</td>\n",
              "    </tr>\n",
              "    <tr>\n",
              "      <th>2</th>\n",
              "      <td>BB520</td>\n",
              "      <td>Brooklyn Buddies Pet Clinic</td>\n",
              "      <td>331 Bushwick Blvd</td>\n",
              "      <td>6466788907</td>\n",
              "      <td>C522</td>\n",
              "    </tr>\n",
              "    <tr>\n",
              "      <th>3</th>\n",
              "      <td>PA324</td>\n",
              "      <td>Pawsome Arlington Pet Clinic</td>\n",
              "      <td>555 Arlington Ave</td>\n",
              "      <td>6461233214</td>\n",
              "      <td>S543</td>\n",
              "    </tr>\n",
              "    <tr>\n",
              "      <th>4</th>\n",
              "      <td>NY102</td>\n",
              "      <td>New Yorkies Pet Clinic</td>\n",
              "      <td>728 Glendale St</td>\n",
              "      <td>6465438695</td>\n",
              "      <td>L568</td>\n",
              "    </tr>\n",
              "  </tbody>\n",
              "</table>\n",
              "</div>\n",
              "      <button class=\"colab-df-convert\" onclick=\"convertToInteractive('df-000290a0-49f6-4a7b-988d-5afb898d7659')\"\n",
              "              title=\"Convert this dataframe to an interactive table.\"\n",
              "              style=\"display:none;\">\n",
              "        \n",
              "  <svg xmlns=\"http://www.w3.org/2000/svg\" height=\"24px\"viewBox=\"0 0 24 24\"\n",
              "       width=\"24px\">\n",
              "    <path d=\"M0 0h24v24H0V0z\" fill=\"none\"/>\n",
              "    <path d=\"M18.56 5.44l.94 2.06.94-2.06 2.06-.94-2.06-.94-.94-2.06-.94 2.06-2.06.94zm-11 1L8.5 8.5l.94-2.06 2.06-.94-2.06-.94L8.5 2.5l-.94 2.06-2.06.94zm10 10l.94 2.06.94-2.06 2.06-.94-2.06-.94-.94-2.06-.94 2.06-2.06.94z\"/><path d=\"M17.41 7.96l-1.37-1.37c-.4-.4-.92-.59-1.43-.59-.52 0-1.04.2-1.43.59L10.3 9.45l-7.72 7.72c-.78.78-.78 2.05 0 2.83L4 21.41c.39.39.9.59 1.41.59.51 0 1.02-.2 1.41-.59l7.78-7.78 2.81-2.81c.8-.78.8-2.07 0-2.86zM5.41 20L4 18.59l7.72-7.72 1.47 1.35L5.41 20z\"/>\n",
              "  </svg>\n",
              "      </button>\n",
              "      \n",
              "  <style>\n",
              "    .colab-df-container {\n",
              "      display:flex;\n",
              "      flex-wrap:wrap;\n",
              "      gap: 12px;\n",
              "    }\n",
              "\n",
              "    .colab-df-convert {\n",
              "      background-color: #E8F0FE;\n",
              "      border: none;\n",
              "      border-radius: 50%;\n",
              "      cursor: pointer;\n",
              "      display: none;\n",
              "      fill: #1967D2;\n",
              "      height: 32px;\n",
              "      padding: 0 0 0 0;\n",
              "      width: 32px;\n",
              "    }\n",
              "\n",
              "    .colab-df-convert:hover {\n",
              "      background-color: #E2EBFA;\n",
              "      box-shadow: 0px 1px 2px rgba(60, 64, 67, 0.3), 0px 1px 3px 1px rgba(60, 64, 67, 0.15);\n",
              "      fill: #174EA6;\n",
              "    }\n",
              "\n",
              "    [theme=dark] .colab-df-convert {\n",
              "      background-color: #3B4455;\n",
              "      fill: #D2E3FC;\n",
              "    }\n",
              "\n",
              "    [theme=dark] .colab-df-convert:hover {\n",
              "      background-color: #434B5C;\n",
              "      box-shadow: 0px 1px 3px 1px rgba(0, 0, 0, 0.15);\n",
              "      filter: drop-shadow(0px 1px 2px rgba(0, 0, 0, 0.3));\n",
              "      fill: #FFFFFF;\n",
              "    }\n",
              "  </style>\n",
              "\n",
              "      <script>\n",
              "        const buttonEl =\n",
              "          document.querySelector('#df-000290a0-49f6-4a7b-988d-5afb898d7659 button.colab-df-convert');\n",
              "        buttonEl.style.display =\n",
              "          google.colab.kernel.accessAllowed ? 'block' : 'none';\n",
              "\n",
              "        async function convertToInteractive(key) {\n",
              "          const element = document.querySelector('#df-000290a0-49f6-4a7b-988d-5afb898d7659');\n",
              "          const dataTable =\n",
              "            await google.colab.kernel.invokeFunction('convertToInteractive',\n",
              "                                                     [key], {});\n",
              "          if (!dataTable) return;\n",
              "\n",
              "          const docLinkHtml = 'Like what you see? Visit the ' +\n",
              "            '<a target=\"_blank\" href=https://colab.research.google.com/notebooks/data_table.ipynb>data table notebook</a>'\n",
              "            + ' to learn more about interactive tables.';\n",
              "          element.innerHTML = '';\n",
              "          dataTable['output_type'] = 'display_data';\n",
              "          await google.colab.output.renderOutput(dataTable, element);\n",
              "          const docLink = document.createElement('div');\n",
              "          docLink.innerHTML = docLinkHtml;\n",
              "          element.appendChild(docLink);\n",
              "        }\n",
              "      </script>\n",
              "    </div>\n",
              "  </div>\n",
              "  "
            ]
          },
          "metadata": {},
          "execution_count": 667
        }
      ]
    },
    {
      "cell_type": "code",
      "source": [
        "df.columns"
      ],
      "metadata": {
        "id": "tGZK6O4HDyVw",
        "colab": {
          "base_uri": "https://localhost:8080/"
        },
        "outputId": "c56c0366-0eb8-489c-dca0-0baf1f4abdd0"
      },
      "execution_count": 668,
      "outputs": [
        {
          "output_type": "execute_result",
          "data": {
            "text/plain": [
              "Index(['clinicNo', 'name', 'address', 'telephoneNumber', 'managerNo'], dtype='object')"
            ]
          },
          "metadata": {},
          "execution_count": 668
        }
      ]
    },
    {
      "cell_type": "markdown",
      "source": [
        "Staff"
      ],
      "metadata": {
        "id": "KbaaPlE0HBMI"
      }
    },
    {
      "cell_type": "code",
      "source": [
        "#selecting values in Staff\n",
        "selectAllStaffValues = \"\"\"SELECT *\n",
        "                       FROM Staff\"\"\"\n",
        "\n",
        "cursor.execute(selectAllStaffValues)"
      ],
      "metadata": {
        "id": "r1C1PEERCoDG",
        "colab": {
          "base_uri": "https://localhost:8080/"
        },
        "outputId": "e03a8dd8-edc9-4690-8e81-9a4ffd86dcfa"
      },
      "execution_count": 669,
      "outputs": [
        {
          "output_type": "execute_result",
          "data": {
            "text/plain": [
              "<sqlite3.Cursor at 0x7f0f83153ab0>"
            ]
          },
          "metadata": {},
          "execution_count": 669
        }
      ]
    },
    {
      "cell_type": "code",
      "source": [
        "#creating/printing pandas dataframe for Staff\n",
        "col_names = [row[0] for row in cursor.description]\n",
        "\n",
        "table_data = cursor.fetchall()\n",
        "df = pd.DataFrame(table_data, columns = col_names)\n",
        "df"
      ],
      "metadata": {
        "id": "tcoYbS-lDvHv",
        "colab": {
          "base_uri": "https://localhost:8080/",
          "height": 269
        },
        "outputId": "7709497c-a36c-4d41-90ca-5376bcaf304c"
      },
      "execution_count": 670,
      "outputs": [
        {
          "output_type": "execute_result",
          "data": {
            "text/plain": [
              "  staffNo clinicNo             name            address  telephoneNumber  \\\n",
              "0    E115    BB520     Emma Emerson  723 Bushwick Blvd       9543251923   \n",
              "1    J592    BA210    Jenny Jenkins       229 Pizza Pl       7866123456   \n",
              "2    J122    PA324     John Johnson     284 Anchor Ave       3050987654   \n",
              "3    R541    PM132   Robert Roberts        897 Bear Rd       6461112343   \n",
              "4    S788    BA210  Steven Stephens      909 Subway St       9544590080   \n",
              "5    W194    NY102   Willa Williams    526 Glendale St       6469994432   \n",
              "6    L568    NY102        Liam Leon      314 Subway St       6460525731   \n",
              "\n",
              "          DOB position  salary  \n",
              "0  2000-06-11    Staff   60000  \n",
              "1  1977-02-10  Manager   95000  \n",
              "2  1982-03-25    Staff   70000  \n",
              "3  1992-05-04  Manager   85000  \n",
              "4  1982-06-04    Staff   82000  \n",
              "5  1970-10-10    Staff   75000  \n",
              "6  1979-07-22  Manager   90000  "
            ],
            "text/html": [
              "\n",
              "  <div id=\"df-6a94829a-d026-43c3-b9f2-75908d4e8ea9\">\n",
              "    <div class=\"colab-df-container\">\n",
              "      <div>\n",
              "<style scoped>\n",
              "    .dataframe tbody tr th:only-of-type {\n",
              "        vertical-align: middle;\n",
              "    }\n",
              "\n",
              "    .dataframe tbody tr th {\n",
              "        vertical-align: top;\n",
              "    }\n",
              "\n",
              "    .dataframe thead th {\n",
              "        text-align: right;\n",
              "    }\n",
              "</style>\n",
              "<table border=\"1\" class=\"dataframe\">\n",
              "  <thead>\n",
              "    <tr style=\"text-align: right;\">\n",
              "      <th></th>\n",
              "      <th>staffNo</th>\n",
              "      <th>clinicNo</th>\n",
              "      <th>name</th>\n",
              "      <th>address</th>\n",
              "      <th>telephoneNumber</th>\n",
              "      <th>DOB</th>\n",
              "      <th>position</th>\n",
              "      <th>salary</th>\n",
              "    </tr>\n",
              "  </thead>\n",
              "  <tbody>\n",
              "    <tr>\n",
              "      <th>0</th>\n",
              "      <td>E115</td>\n",
              "      <td>BB520</td>\n",
              "      <td>Emma Emerson</td>\n",
              "      <td>723 Bushwick Blvd</td>\n",
              "      <td>9543251923</td>\n",
              "      <td>2000-06-11</td>\n",
              "      <td>Staff</td>\n",
              "      <td>60000</td>\n",
              "    </tr>\n",
              "    <tr>\n",
              "      <th>1</th>\n",
              "      <td>J592</td>\n",
              "      <td>BA210</td>\n",
              "      <td>Jenny Jenkins</td>\n",
              "      <td>229 Pizza Pl</td>\n",
              "      <td>7866123456</td>\n",
              "      <td>1977-02-10</td>\n",
              "      <td>Manager</td>\n",
              "      <td>95000</td>\n",
              "    </tr>\n",
              "    <tr>\n",
              "      <th>2</th>\n",
              "      <td>J122</td>\n",
              "      <td>PA324</td>\n",
              "      <td>John Johnson</td>\n",
              "      <td>284 Anchor Ave</td>\n",
              "      <td>3050987654</td>\n",
              "      <td>1982-03-25</td>\n",
              "      <td>Staff</td>\n",
              "      <td>70000</td>\n",
              "    </tr>\n",
              "    <tr>\n",
              "      <th>3</th>\n",
              "      <td>R541</td>\n",
              "      <td>PM132</td>\n",
              "      <td>Robert Roberts</td>\n",
              "      <td>897 Bear Rd</td>\n",
              "      <td>6461112343</td>\n",
              "      <td>1992-05-04</td>\n",
              "      <td>Manager</td>\n",
              "      <td>85000</td>\n",
              "    </tr>\n",
              "    <tr>\n",
              "      <th>4</th>\n",
              "      <td>S788</td>\n",
              "      <td>BA210</td>\n",
              "      <td>Steven Stephens</td>\n",
              "      <td>909 Subway St</td>\n",
              "      <td>9544590080</td>\n",
              "      <td>1982-06-04</td>\n",
              "      <td>Staff</td>\n",
              "      <td>82000</td>\n",
              "    </tr>\n",
              "    <tr>\n",
              "      <th>5</th>\n",
              "      <td>W194</td>\n",
              "      <td>NY102</td>\n",
              "      <td>Willa Williams</td>\n",
              "      <td>526 Glendale St</td>\n",
              "      <td>6469994432</td>\n",
              "      <td>1970-10-10</td>\n",
              "      <td>Staff</td>\n",
              "      <td>75000</td>\n",
              "    </tr>\n",
              "    <tr>\n",
              "      <th>6</th>\n",
              "      <td>L568</td>\n",
              "      <td>NY102</td>\n",
              "      <td>Liam Leon</td>\n",
              "      <td>314 Subway St</td>\n",
              "      <td>6460525731</td>\n",
              "      <td>1979-07-22</td>\n",
              "      <td>Manager</td>\n",
              "      <td>90000</td>\n",
              "    </tr>\n",
              "  </tbody>\n",
              "</table>\n",
              "</div>\n",
              "      <button class=\"colab-df-convert\" onclick=\"convertToInteractive('df-6a94829a-d026-43c3-b9f2-75908d4e8ea9')\"\n",
              "              title=\"Convert this dataframe to an interactive table.\"\n",
              "              style=\"display:none;\">\n",
              "        \n",
              "  <svg xmlns=\"http://www.w3.org/2000/svg\" height=\"24px\"viewBox=\"0 0 24 24\"\n",
              "       width=\"24px\">\n",
              "    <path d=\"M0 0h24v24H0V0z\" fill=\"none\"/>\n",
              "    <path d=\"M18.56 5.44l.94 2.06.94-2.06 2.06-.94-2.06-.94-.94-2.06-.94 2.06-2.06.94zm-11 1L8.5 8.5l.94-2.06 2.06-.94-2.06-.94L8.5 2.5l-.94 2.06-2.06.94zm10 10l.94 2.06.94-2.06 2.06-.94-2.06-.94-.94-2.06-.94 2.06-2.06.94z\"/><path d=\"M17.41 7.96l-1.37-1.37c-.4-.4-.92-.59-1.43-.59-.52 0-1.04.2-1.43.59L10.3 9.45l-7.72 7.72c-.78.78-.78 2.05 0 2.83L4 21.41c.39.39.9.59 1.41.59.51 0 1.02-.2 1.41-.59l7.78-7.78 2.81-2.81c.8-.78.8-2.07 0-2.86zM5.41 20L4 18.59l7.72-7.72 1.47 1.35L5.41 20z\"/>\n",
              "  </svg>\n",
              "      </button>\n",
              "      \n",
              "  <style>\n",
              "    .colab-df-container {\n",
              "      display:flex;\n",
              "      flex-wrap:wrap;\n",
              "      gap: 12px;\n",
              "    }\n",
              "\n",
              "    .colab-df-convert {\n",
              "      background-color: #E8F0FE;\n",
              "      border: none;\n",
              "      border-radius: 50%;\n",
              "      cursor: pointer;\n",
              "      display: none;\n",
              "      fill: #1967D2;\n",
              "      height: 32px;\n",
              "      padding: 0 0 0 0;\n",
              "      width: 32px;\n",
              "    }\n",
              "\n",
              "    .colab-df-convert:hover {\n",
              "      background-color: #E2EBFA;\n",
              "      box-shadow: 0px 1px 2px rgba(60, 64, 67, 0.3), 0px 1px 3px 1px rgba(60, 64, 67, 0.15);\n",
              "      fill: #174EA6;\n",
              "    }\n",
              "\n",
              "    [theme=dark] .colab-df-convert {\n",
              "      background-color: #3B4455;\n",
              "      fill: #D2E3FC;\n",
              "    }\n",
              "\n",
              "    [theme=dark] .colab-df-convert:hover {\n",
              "      background-color: #434B5C;\n",
              "      box-shadow: 0px 1px 3px 1px rgba(0, 0, 0, 0.15);\n",
              "      filter: drop-shadow(0px 1px 2px rgba(0, 0, 0, 0.3));\n",
              "      fill: #FFFFFF;\n",
              "    }\n",
              "  </style>\n",
              "\n",
              "      <script>\n",
              "        const buttonEl =\n",
              "          document.querySelector('#df-6a94829a-d026-43c3-b9f2-75908d4e8ea9 button.colab-df-convert');\n",
              "        buttonEl.style.display =\n",
              "          google.colab.kernel.accessAllowed ? 'block' : 'none';\n",
              "\n",
              "        async function convertToInteractive(key) {\n",
              "          const element = document.querySelector('#df-6a94829a-d026-43c3-b9f2-75908d4e8ea9');\n",
              "          const dataTable =\n",
              "            await google.colab.kernel.invokeFunction('convertToInteractive',\n",
              "                                                     [key], {});\n",
              "          if (!dataTable) return;\n",
              "\n",
              "          const docLinkHtml = 'Like what you see? Visit the ' +\n",
              "            '<a target=\"_blank\" href=https://colab.research.google.com/notebooks/data_table.ipynb>data table notebook</a>'\n",
              "            + ' to learn more about interactive tables.';\n",
              "          element.innerHTML = '';\n",
              "          dataTable['output_type'] = 'display_data';\n",
              "          await google.colab.output.renderOutput(dataTable, element);\n",
              "          const docLink = document.createElement('div');\n",
              "          docLink.innerHTML = docLinkHtml;\n",
              "          element.appendChild(docLink);\n",
              "        }\n",
              "      </script>\n",
              "    </div>\n",
              "  </div>\n",
              "  "
            ]
          },
          "metadata": {},
          "execution_count": 670
        }
      ]
    },
    {
      "cell_type": "code",
      "source": [
        "df.columns"
      ],
      "metadata": {
        "id": "2viynH_mDwVS",
        "colab": {
          "base_uri": "https://localhost:8080/"
        },
        "outputId": "7795fb85-1fd6-46ce-e658-2a35c9b26a55"
      },
      "execution_count": 671,
      "outputs": [
        {
          "output_type": "execute_result",
          "data": {
            "text/plain": [
              "Index(['staffNo', 'clinicNo', 'name', 'address', 'telephoneNumber', 'DOB',\n",
              "       'position', 'salary'],\n",
              "      dtype='object')"
            ]
          },
          "metadata": {},
          "execution_count": 671
        }
      ]
    },
    {
      "cell_type": "markdown",
      "source": [
        "Owner"
      ],
      "metadata": {
        "id": "dB3tAW911iQU"
      }
    },
    {
      "cell_type": "code",
      "source": [
        "#selecting values in Owner\n",
        "selectAllOwnerValues = \"\"\"SELECT *\n",
        "                       FROM Owner\"\"\"\n",
        "\n",
        "cursor.execute(selectAllOwnerValues)"
      ],
      "metadata": {
        "colab": {
          "base_uri": "https://localhost:8080/"
        },
        "id": "7Tsj3fj81l49",
        "outputId": "c318f9ad-9b26-4beb-a82d-ed8657779b00"
      },
      "execution_count": 672,
      "outputs": [
        {
          "output_type": "execute_result",
          "data": {
            "text/plain": [
              "<sqlite3.Cursor at 0x7f0f83153ab0>"
            ]
          },
          "metadata": {},
          "execution_count": 672
        }
      ]
    },
    {
      "cell_type": "code",
      "source": [
        "#creating/printing pandas dataframe for Owner\n",
        "col_names = [row[0] for row in cursor.description]\n",
        "\n",
        "table_data = cursor.fetchall()\n",
        "df = pd.DataFrame(table_data, columns = col_names)\n",
        "df"
      ],
      "metadata": {
        "colab": {
          "base_uri": "https://localhost:8080/",
          "height": 206
        },
        "id": "6_iL-zsr12Kk",
        "outputId": "bdf647e4-088f-4018-825a-3b293c57f61e"
      },
      "execution_count": 673,
      "outputs": [
        {
          "output_type": "execute_result",
          "data": {
            "text/plain": [
              "  ownerNo                name             address  telephoneNumber\n",
              "0   MM352     Mickey Michaels          225 Bay St       9546557890\n",
              "1   CC248  Cristina Christens       314 Subway St       3055039876\n",
              "2   JJ225       James Jameson          516 NY Ave       7887623425\n",
              "3   DD912       Diego Delgado      182 Anchor Ave       3050123210\n",
              "4   MM410    Martina Martinez  837 Buschwick Blvd       6468769090"
            ],
            "text/html": [
              "\n",
              "  <div id=\"df-1f168031-57fc-4a31-8a4a-bbd7da154ae9\">\n",
              "    <div class=\"colab-df-container\">\n",
              "      <div>\n",
              "<style scoped>\n",
              "    .dataframe tbody tr th:only-of-type {\n",
              "        vertical-align: middle;\n",
              "    }\n",
              "\n",
              "    .dataframe tbody tr th {\n",
              "        vertical-align: top;\n",
              "    }\n",
              "\n",
              "    .dataframe thead th {\n",
              "        text-align: right;\n",
              "    }\n",
              "</style>\n",
              "<table border=\"1\" class=\"dataframe\">\n",
              "  <thead>\n",
              "    <tr style=\"text-align: right;\">\n",
              "      <th></th>\n",
              "      <th>ownerNo</th>\n",
              "      <th>name</th>\n",
              "      <th>address</th>\n",
              "      <th>telephoneNumber</th>\n",
              "    </tr>\n",
              "  </thead>\n",
              "  <tbody>\n",
              "    <tr>\n",
              "      <th>0</th>\n",
              "      <td>MM352</td>\n",
              "      <td>Mickey Michaels</td>\n",
              "      <td>225 Bay St</td>\n",
              "      <td>9546557890</td>\n",
              "    </tr>\n",
              "    <tr>\n",
              "      <th>1</th>\n",
              "      <td>CC248</td>\n",
              "      <td>Cristina Christens</td>\n",
              "      <td>314 Subway St</td>\n",
              "      <td>3055039876</td>\n",
              "    </tr>\n",
              "    <tr>\n",
              "      <th>2</th>\n",
              "      <td>JJ225</td>\n",
              "      <td>James Jameson</td>\n",
              "      <td>516 NY Ave</td>\n",
              "      <td>7887623425</td>\n",
              "    </tr>\n",
              "    <tr>\n",
              "      <th>3</th>\n",
              "      <td>DD912</td>\n",
              "      <td>Diego Delgado</td>\n",
              "      <td>182 Anchor Ave</td>\n",
              "      <td>3050123210</td>\n",
              "    </tr>\n",
              "    <tr>\n",
              "      <th>4</th>\n",
              "      <td>MM410</td>\n",
              "      <td>Martina Martinez</td>\n",
              "      <td>837 Buschwick Blvd</td>\n",
              "      <td>6468769090</td>\n",
              "    </tr>\n",
              "  </tbody>\n",
              "</table>\n",
              "</div>\n",
              "      <button class=\"colab-df-convert\" onclick=\"convertToInteractive('df-1f168031-57fc-4a31-8a4a-bbd7da154ae9')\"\n",
              "              title=\"Convert this dataframe to an interactive table.\"\n",
              "              style=\"display:none;\">\n",
              "        \n",
              "  <svg xmlns=\"http://www.w3.org/2000/svg\" height=\"24px\"viewBox=\"0 0 24 24\"\n",
              "       width=\"24px\">\n",
              "    <path d=\"M0 0h24v24H0V0z\" fill=\"none\"/>\n",
              "    <path d=\"M18.56 5.44l.94 2.06.94-2.06 2.06-.94-2.06-.94-.94-2.06-.94 2.06-2.06.94zm-11 1L8.5 8.5l.94-2.06 2.06-.94-2.06-.94L8.5 2.5l-.94 2.06-2.06.94zm10 10l.94 2.06.94-2.06 2.06-.94-2.06-.94-.94-2.06-.94 2.06-2.06.94z\"/><path d=\"M17.41 7.96l-1.37-1.37c-.4-.4-.92-.59-1.43-.59-.52 0-1.04.2-1.43.59L10.3 9.45l-7.72 7.72c-.78.78-.78 2.05 0 2.83L4 21.41c.39.39.9.59 1.41.59.51 0 1.02-.2 1.41-.59l7.78-7.78 2.81-2.81c.8-.78.8-2.07 0-2.86zM5.41 20L4 18.59l7.72-7.72 1.47 1.35L5.41 20z\"/>\n",
              "  </svg>\n",
              "      </button>\n",
              "      \n",
              "  <style>\n",
              "    .colab-df-container {\n",
              "      display:flex;\n",
              "      flex-wrap:wrap;\n",
              "      gap: 12px;\n",
              "    }\n",
              "\n",
              "    .colab-df-convert {\n",
              "      background-color: #E8F0FE;\n",
              "      border: none;\n",
              "      border-radius: 50%;\n",
              "      cursor: pointer;\n",
              "      display: none;\n",
              "      fill: #1967D2;\n",
              "      height: 32px;\n",
              "      padding: 0 0 0 0;\n",
              "      width: 32px;\n",
              "    }\n",
              "\n",
              "    .colab-df-convert:hover {\n",
              "      background-color: #E2EBFA;\n",
              "      box-shadow: 0px 1px 2px rgba(60, 64, 67, 0.3), 0px 1px 3px 1px rgba(60, 64, 67, 0.15);\n",
              "      fill: #174EA6;\n",
              "    }\n",
              "\n",
              "    [theme=dark] .colab-df-convert {\n",
              "      background-color: #3B4455;\n",
              "      fill: #D2E3FC;\n",
              "    }\n",
              "\n",
              "    [theme=dark] .colab-df-convert:hover {\n",
              "      background-color: #434B5C;\n",
              "      box-shadow: 0px 1px 3px 1px rgba(0, 0, 0, 0.15);\n",
              "      filter: drop-shadow(0px 1px 2px rgba(0, 0, 0, 0.3));\n",
              "      fill: #FFFFFF;\n",
              "    }\n",
              "  </style>\n",
              "\n",
              "      <script>\n",
              "        const buttonEl =\n",
              "          document.querySelector('#df-1f168031-57fc-4a31-8a4a-bbd7da154ae9 button.colab-df-convert');\n",
              "        buttonEl.style.display =\n",
              "          google.colab.kernel.accessAllowed ? 'block' : 'none';\n",
              "\n",
              "        async function convertToInteractive(key) {\n",
              "          const element = document.querySelector('#df-1f168031-57fc-4a31-8a4a-bbd7da154ae9');\n",
              "          const dataTable =\n",
              "            await google.colab.kernel.invokeFunction('convertToInteractive',\n",
              "                                                     [key], {});\n",
              "          if (!dataTable) return;\n",
              "\n",
              "          const docLinkHtml = 'Like what you see? Visit the ' +\n",
              "            '<a target=\"_blank\" href=https://colab.research.google.com/notebooks/data_table.ipynb>data table notebook</a>'\n",
              "            + ' to learn more about interactive tables.';\n",
              "          element.innerHTML = '';\n",
              "          dataTable['output_type'] = 'display_data';\n",
              "          await google.colab.output.renderOutput(dataTable, element);\n",
              "          const docLink = document.createElement('div');\n",
              "          docLink.innerHTML = docLinkHtml;\n",
              "          element.appendChild(docLink);\n",
              "        }\n",
              "      </script>\n",
              "    </div>\n",
              "  </div>\n",
              "  "
            ]
          },
          "metadata": {},
          "execution_count": 673
        }
      ]
    },
    {
      "cell_type": "code",
      "source": [
        "df.columns"
      ],
      "metadata": {
        "colab": {
          "base_uri": "https://localhost:8080/"
        },
        "id": "zaNUGlZG16tr",
        "outputId": "dfff5a5b-1a27-45b6-b96d-4e40c195237d"
      },
      "execution_count": 674,
      "outputs": [
        {
          "output_type": "execute_result",
          "data": {
            "text/plain": [
              "Index(['ownerNo', 'name', 'address', 'telephoneNumber'], dtype='object')"
            ]
          },
          "metadata": {},
          "execution_count": 674
        }
      ]
    },
    {
      "cell_type": "markdown",
      "source": [
        "Pet"
      ],
      "metadata": {
        "id": "NByVEtdF1nBg"
      }
    },
    {
      "cell_type": "code",
      "source": [
        "#selecting values in Pet\n",
        "selectAllPetValues = \"\"\"SELECT *\n",
        "                        FROM Pet\"\"\"\n",
        "\n",
        "cursor.execute(selectAllPetValues)"
      ],
      "metadata": {
        "colab": {
          "base_uri": "https://localhost:8080/"
        },
        "id": "GtdAypok1mVP",
        "outputId": "ba8171e9-e043-489e-f4a9-1969deb92589"
      },
      "execution_count": 675,
      "outputs": [
        {
          "output_type": "execute_result",
          "data": {
            "text/plain": [
              "<sqlite3.Cursor at 0x7f0f83153ab0>"
            ]
          },
          "metadata": {},
          "execution_count": 675
        }
      ]
    },
    {
      "cell_type": "code",
      "source": [
        "#creating/printing pandas dataframe for Pet\n",
        "col_names = [row[0] for row in cursor.description]\n",
        "\n",
        "table_data = cursor.fetchall()\n",
        "df = pd.DataFrame(table_data, columns = col_names)\n",
        "df"
      ],
      "metadata": {
        "colab": {
          "base_uri": "https://localhost:8080/",
          "height": 269
        },
        "id": "mwciflQ92OY0",
        "outputId": "2991794d-9519-48be-aef3-a67c48486540"
      },
      "execution_count": 676,
      "outputs": [
        {
          "output_type": "execute_result",
          "data": {
            "text/plain": [
              "  petNo ownerNo clinicNo    name         DOB  species           breed  \\\n",
              "0  D320   DD912    PA324      Bo  2018-01-17      Dog      Cane Corso   \n",
              "1  C100   CC248    NY102   Misty  2020-08-02      Cat         Ragdoll   \n",
              "2  D283   MM352    BB520  Fluffy  2016-04-12      Dog      Pomeranian   \n",
              "3  H101   JJ225    BA210      Ad  2021-11-25  Hamster          Syrian   \n",
              "4  C205   MM410    PM132    Lady  2017-05-04      Cat         Siamese   \n",
              "5  H121   JJ225    BA210   Simon  2021-10-21  Hamster          Syrian   \n",
              "6  D375   CC248    NY102     Ham  2017-11-02      Dog  French Bulldog   \n",
              "\n",
              "        color  \n",
              "0       Black  \n",
              "1  Colorpoint  \n",
              "2       Cream  \n",
              "3        Gold  \n",
              "4  Seal Point  \n",
              "5        Gold  \n",
              "6      Blonde  "
            ],
            "text/html": [
              "\n",
              "  <div id=\"df-05127eb0-da8b-49cb-9716-98a9b190eee0\">\n",
              "    <div class=\"colab-df-container\">\n",
              "      <div>\n",
              "<style scoped>\n",
              "    .dataframe tbody tr th:only-of-type {\n",
              "        vertical-align: middle;\n",
              "    }\n",
              "\n",
              "    .dataframe tbody tr th {\n",
              "        vertical-align: top;\n",
              "    }\n",
              "\n",
              "    .dataframe thead th {\n",
              "        text-align: right;\n",
              "    }\n",
              "</style>\n",
              "<table border=\"1\" class=\"dataframe\">\n",
              "  <thead>\n",
              "    <tr style=\"text-align: right;\">\n",
              "      <th></th>\n",
              "      <th>petNo</th>\n",
              "      <th>ownerNo</th>\n",
              "      <th>clinicNo</th>\n",
              "      <th>name</th>\n",
              "      <th>DOB</th>\n",
              "      <th>species</th>\n",
              "      <th>breed</th>\n",
              "      <th>color</th>\n",
              "    </tr>\n",
              "  </thead>\n",
              "  <tbody>\n",
              "    <tr>\n",
              "      <th>0</th>\n",
              "      <td>D320</td>\n",
              "      <td>DD912</td>\n",
              "      <td>PA324</td>\n",
              "      <td>Bo</td>\n",
              "      <td>2018-01-17</td>\n",
              "      <td>Dog</td>\n",
              "      <td>Cane Corso</td>\n",
              "      <td>Black</td>\n",
              "    </tr>\n",
              "    <tr>\n",
              "      <th>1</th>\n",
              "      <td>C100</td>\n",
              "      <td>CC248</td>\n",
              "      <td>NY102</td>\n",
              "      <td>Misty</td>\n",
              "      <td>2020-08-02</td>\n",
              "      <td>Cat</td>\n",
              "      <td>Ragdoll</td>\n",
              "      <td>Colorpoint</td>\n",
              "    </tr>\n",
              "    <tr>\n",
              "      <th>2</th>\n",
              "      <td>D283</td>\n",
              "      <td>MM352</td>\n",
              "      <td>BB520</td>\n",
              "      <td>Fluffy</td>\n",
              "      <td>2016-04-12</td>\n",
              "      <td>Dog</td>\n",
              "      <td>Pomeranian</td>\n",
              "      <td>Cream</td>\n",
              "    </tr>\n",
              "    <tr>\n",
              "      <th>3</th>\n",
              "      <td>H101</td>\n",
              "      <td>JJ225</td>\n",
              "      <td>BA210</td>\n",
              "      <td>Ad</td>\n",
              "      <td>2021-11-25</td>\n",
              "      <td>Hamster</td>\n",
              "      <td>Syrian</td>\n",
              "      <td>Gold</td>\n",
              "    </tr>\n",
              "    <tr>\n",
              "      <th>4</th>\n",
              "      <td>C205</td>\n",
              "      <td>MM410</td>\n",
              "      <td>PM132</td>\n",
              "      <td>Lady</td>\n",
              "      <td>2017-05-04</td>\n",
              "      <td>Cat</td>\n",
              "      <td>Siamese</td>\n",
              "      <td>Seal Point</td>\n",
              "    </tr>\n",
              "    <tr>\n",
              "      <th>5</th>\n",
              "      <td>H121</td>\n",
              "      <td>JJ225</td>\n",
              "      <td>BA210</td>\n",
              "      <td>Simon</td>\n",
              "      <td>2021-10-21</td>\n",
              "      <td>Hamster</td>\n",
              "      <td>Syrian</td>\n",
              "      <td>Gold</td>\n",
              "    </tr>\n",
              "    <tr>\n",
              "      <th>6</th>\n",
              "      <td>D375</td>\n",
              "      <td>CC248</td>\n",
              "      <td>NY102</td>\n",
              "      <td>Ham</td>\n",
              "      <td>2017-11-02</td>\n",
              "      <td>Dog</td>\n",
              "      <td>French Bulldog</td>\n",
              "      <td>Blonde</td>\n",
              "    </tr>\n",
              "  </tbody>\n",
              "</table>\n",
              "</div>\n",
              "      <button class=\"colab-df-convert\" onclick=\"convertToInteractive('df-05127eb0-da8b-49cb-9716-98a9b190eee0')\"\n",
              "              title=\"Convert this dataframe to an interactive table.\"\n",
              "              style=\"display:none;\">\n",
              "        \n",
              "  <svg xmlns=\"http://www.w3.org/2000/svg\" height=\"24px\"viewBox=\"0 0 24 24\"\n",
              "       width=\"24px\">\n",
              "    <path d=\"M0 0h24v24H0V0z\" fill=\"none\"/>\n",
              "    <path d=\"M18.56 5.44l.94 2.06.94-2.06 2.06-.94-2.06-.94-.94-2.06-.94 2.06-2.06.94zm-11 1L8.5 8.5l.94-2.06 2.06-.94-2.06-.94L8.5 2.5l-.94 2.06-2.06.94zm10 10l.94 2.06.94-2.06 2.06-.94-2.06-.94-.94-2.06-.94 2.06-2.06.94z\"/><path d=\"M17.41 7.96l-1.37-1.37c-.4-.4-.92-.59-1.43-.59-.52 0-1.04.2-1.43.59L10.3 9.45l-7.72 7.72c-.78.78-.78 2.05 0 2.83L4 21.41c.39.39.9.59 1.41.59.51 0 1.02-.2 1.41-.59l7.78-7.78 2.81-2.81c.8-.78.8-2.07 0-2.86zM5.41 20L4 18.59l7.72-7.72 1.47 1.35L5.41 20z\"/>\n",
              "  </svg>\n",
              "      </button>\n",
              "      \n",
              "  <style>\n",
              "    .colab-df-container {\n",
              "      display:flex;\n",
              "      flex-wrap:wrap;\n",
              "      gap: 12px;\n",
              "    }\n",
              "\n",
              "    .colab-df-convert {\n",
              "      background-color: #E8F0FE;\n",
              "      border: none;\n",
              "      border-radius: 50%;\n",
              "      cursor: pointer;\n",
              "      display: none;\n",
              "      fill: #1967D2;\n",
              "      height: 32px;\n",
              "      padding: 0 0 0 0;\n",
              "      width: 32px;\n",
              "    }\n",
              "\n",
              "    .colab-df-convert:hover {\n",
              "      background-color: #E2EBFA;\n",
              "      box-shadow: 0px 1px 2px rgba(60, 64, 67, 0.3), 0px 1px 3px 1px rgba(60, 64, 67, 0.15);\n",
              "      fill: #174EA6;\n",
              "    }\n",
              "\n",
              "    [theme=dark] .colab-df-convert {\n",
              "      background-color: #3B4455;\n",
              "      fill: #D2E3FC;\n",
              "    }\n",
              "\n",
              "    [theme=dark] .colab-df-convert:hover {\n",
              "      background-color: #434B5C;\n",
              "      box-shadow: 0px 1px 3px 1px rgba(0, 0, 0, 0.15);\n",
              "      filter: drop-shadow(0px 1px 2px rgba(0, 0, 0, 0.3));\n",
              "      fill: #FFFFFF;\n",
              "    }\n",
              "  </style>\n",
              "\n",
              "      <script>\n",
              "        const buttonEl =\n",
              "          document.querySelector('#df-05127eb0-da8b-49cb-9716-98a9b190eee0 button.colab-df-convert');\n",
              "        buttonEl.style.display =\n",
              "          google.colab.kernel.accessAllowed ? 'block' : 'none';\n",
              "\n",
              "        async function convertToInteractive(key) {\n",
              "          const element = document.querySelector('#df-05127eb0-da8b-49cb-9716-98a9b190eee0');\n",
              "          const dataTable =\n",
              "            await google.colab.kernel.invokeFunction('convertToInteractive',\n",
              "                                                     [key], {});\n",
              "          if (!dataTable) return;\n",
              "\n",
              "          const docLinkHtml = 'Like what you see? Visit the ' +\n",
              "            '<a target=\"_blank\" href=https://colab.research.google.com/notebooks/data_table.ipynb>data table notebook</a>'\n",
              "            + ' to learn more about interactive tables.';\n",
              "          element.innerHTML = '';\n",
              "          dataTable['output_type'] = 'display_data';\n",
              "          await google.colab.output.renderOutput(dataTable, element);\n",
              "          const docLink = document.createElement('div');\n",
              "          docLink.innerHTML = docLinkHtml;\n",
              "          element.appendChild(docLink);\n",
              "        }\n",
              "      </script>\n",
              "    </div>\n",
              "  </div>\n",
              "  "
            ]
          },
          "metadata": {},
          "execution_count": 676
        }
      ]
    },
    {
      "cell_type": "code",
      "source": [
        "df.columns"
      ],
      "metadata": {
        "colab": {
          "base_uri": "https://localhost:8080/"
        },
        "id": "tqPObrbD2VCt",
        "outputId": "c58c9906-75b0-4a8b-aa2b-fa573ab2680a"
      },
      "execution_count": 677,
      "outputs": [
        {
          "output_type": "execute_result",
          "data": {
            "text/plain": [
              "Index(['petNo', 'ownerNo', 'clinicNo', 'name', 'DOB', 'species', 'breed',\n",
              "       'color'],\n",
              "      dtype='object')"
            ]
          },
          "metadata": {},
          "execution_count": 677
        }
      ]
    },
    {
      "cell_type": "markdown",
      "source": [
        "Examination"
      ],
      "metadata": {
        "id": "B1guntUM1ooj"
      }
    },
    {
      "cell_type": "code",
      "source": [
        "#selecting values in Examination\n",
        "selectAllExamValues = \"\"\"SELECT *\n",
        "                         FROM Examination\"\"\"\n",
        "\n",
        "cursor.execute(selectAllExamValues)"
      ],
      "metadata": {
        "colab": {
          "base_uri": "https://localhost:8080/"
        },
        "id": "HjpK-YkU1oR6",
        "outputId": "f2e6b7d5-97c2-4659-b53f-21c404096cc8"
      },
      "execution_count": 678,
      "outputs": [
        {
          "output_type": "execute_result",
          "data": {
            "text/plain": [
              "<sqlite3.Cursor at 0x7f0f83153ab0>"
            ]
          },
          "metadata": {},
          "execution_count": 678
        }
      ]
    },
    {
      "cell_type": "code",
      "source": [
        "#creating/printing pandas dataframe for Examination\n",
        "col_names = [row[0] for row in cursor.description]\n",
        "\n",
        "table_data = cursor.fetchall()\n",
        "df = pd.DataFrame(table_data, columns = col_names)\n",
        "df"
      ],
      "metadata": {
        "colab": {
          "base_uri": "https://localhost:8080/",
          "height": 237
        },
        "id": "6vLojkVx2gS0",
        "outputId": "75ca4b93-10ac-4cd2-fe6d-70cc8f35dc57"
      },
      "execution_count": 679,
      "outputs": [
        {
          "output_type": "execute_result",
          "data": {
            "text/plain": [
              "  examNo staffNo petNo     chiefComplaint  \\\n",
              "0   A580    E115  H101             Annual   \n",
              "1   A602    J122  D283             Annual   \n",
              "2   X229    E115  D320  Leg pain, limping   \n",
              "3   A849    W194  C205             Annual   \n",
              "4   X300    S788  D375            Limping   \n",
              "5   S113    W194  C100  Swallowed buttons   \n",
              "\n",
              "                            description    dateSeen  \\\n",
              "0                       Routine checkup  2022-06-11   \n",
              "1  Routine checkup, ear infection found  2021-06-08   \n",
              "2                   XRay front left leg  2019-01-19   \n",
              "3                       Routine checkup  2022-09-28   \n",
              "4                    XRay back left leg  2020-12-07   \n",
              "5                      Induced vomiting  2018-09-24   \n",
              "\n",
              "                       actionsTaken  \n",
              "0                              None  \n",
              "1            Prescribed antibiotics  \n",
              "2  Cast, prescribed pain medication  \n",
              "3                              None  \n",
              "4  Cast, prescribed pain medication  \n",
              "5                              None  "
            ],
            "text/html": [
              "\n",
              "  <div id=\"df-7412766c-8913-4a56-9fbc-95c3d0768e7d\">\n",
              "    <div class=\"colab-df-container\">\n",
              "      <div>\n",
              "<style scoped>\n",
              "    .dataframe tbody tr th:only-of-type {\n",
              "        vertical-align: middle;\n",
              "    }\n",
              "\n",
              "    .dataframe tbody tr th {\n",
              "        vertical-align: top;\n",
              "    }\n",
              "\n",
              "    .dataframe thead th {\n",
              "        text-align: right;\n",
              "    }\n",
              "</style>\n",
              "<table border=\"1\" class=\"dataframe\">\n",
              "  <thead>\n",
              "    <tr style=\"text-align: right;\">\n",
              "      <th></th>\n",
              "      <th>examNo</th>\n",
              "      <th>staffNo</th>\n",
              "      <th>petNo</th>\n",
              "      <th>chiefComplaint</th>\n",
              "      <th>description</th>\n",
              "      <th>dateSeen</th>\n",
              "      <th>actionsTaken</th>\n",
              "    </tr>\n",
              "  </thead>\n",
              "  <tbody>\n",
              "    <tr>\n",
              "      <th>0</th>\n",
              "      <td>A580</td>\n",
              "      <td>E115</td>\n",
              "      <td>H101</td>\n",
              "      <td>Annual</td>\n",
              "      <td>Routine checkup</td>\n",
              "      <td>2022-06-11</td>\n",
              "      <td>None</td>\n",
              "    </tr>\n",
              "    <tr>\n",
              "      <th>1</th>\n",
              "      <td>A602</td>\n",
              "      <td>J122</td>\n",
              "      <td>D283</td>\n",
              "      <td>Annual</td>\n",
              "      <td>Routine checkup, ear infection found</td>\n",
              "      <td>2021-06-08</td>\n",
              "      <td>Prescribed antibiotics</td>\n",
              "    </tr>\n",
              "    <tr>\n",
              "      <th>2</th>\n",
              "      <td>X229</td>\n",
              "      <td>E115</td>\n",
              "      <td>D320</td>\n",
              "      <td>Leg pain, limping</td>\n",
              "      <td>XRay front left leg</td>\n",
              "      <td>2019-01-19</td>\n",
              "      <td>Cast, prescribed pain medication</td>\n",
              "    </tr>\n",
              "    <tr>\n",
              "      <th>3</th>\n",
              "      <td>A849</td>\n",
              "      <td>W194</td>\n",
              "      <td>C205</td>\n",
              "      <td>Annual</td>\n",
              "      <td>Routine checkup</td>\n",
              "      <td>2022-09-28</td>\n",
              "      <td>None</td>\n",
              "    </tr>\n",
              "    <tr>\n",
              "      <th>4</th>\n",
              "      <td>X300</td>\n",
              "      <td>S788</td>\n",
              "      <td>D375</td>\n",
              "      <td>Limping</td>\n",
              "      <td>XRay back left leg</td>\n",
              "      <td>2020-12-07</td>\n",
              "      <td>Cast, prescribed pain medication</td>\n",
              "    </tr>\n",
              "    <tr>\n",
              "      <th>5</th>\n",
              "      <td>S113</td>\n",
              "      <td>W194</td>\n",
              "      <td>C100</td>\n",
              "      <td>Swallowed buttons</td>\n",
              "      <td>Induced vomiting</td>\n",
              "      <td>2018-09-24</td>\n",
              "      <td>None</td>\n",
              "    </tr>\n",
              "  </tbody>\n",
              "</table>\n",
              "</div>\n",
              "      <button class=\"colab-df-convert\" onclick=\"convertToInteractive('df-7412766c-8913-4a56-9fbc-95c3d0768e7d')\"\n",
              "              title=\"Convert this dataframe to an interactive table.\"\n",
              "              style=\"display:none;\">\n",
              "        \n",
              "  <svg xmlns=\"http://www.w3.org/2000/svg\" height=\"24px\"viewBox=\"0 0 24 24\"\n",
              "       width=\"24px\">\n",
              "    <path d=\"M0 0h24v24H0V0z\" fill=\"none\"/>\n",
              "    <path d=\"M18.56 5.44l.94 2.06.94-2.06 2.06-.94-2.06-.94-.94-2.06-.94 2.06-2.06.94zm-11 1L8.5 8.5l.94-2.06 2.06-.94-2.06-.94L8.5 2.5l-.94 2.06-2.06.94zm10 10l.94 2.06.94-2.06 2.06-.94-2.06-.94-.94-2.06-.94 2.06-2.06.94z\"/><path d=\"M17.41 7.96l-1.37-1.37c-.4-.4-.92-.59-1.43-.59-.52 0-1.04.2-1.43.59L10.3 9.45l-7.72 7.72c-.78.78-.78 2.05 0 2.83L4 21.41c.39.39.9.59 1.41.59.51 0 1.02-.2 1.41-.59l7.78-7.78 2.81-2.81c.8-.78.8-2.07 0-2.86zM5.41 20L4 18.59l7.72-7.72 1.47 1.35L5.41 20z\"/>\n",
              "  </svg>\n",
              "      </button>\n",
              "      \n",
              "  <style>\n",
              "    .colab-df-container {\n",
              "      display:flex;\n",
              "      flex-wrap:wrap;\n",
              "      gap: 12px;\n",
              "    }\n",
              "\n",
              "    .colab-df-convert {\n",
              "      background-color: #E8F0FE;\n",
              "      border: none;\n",
              "      border-radius: 50%;\n",
              "      cursor: pointer;\n",
              "      display: none;\n",
              "      fill: #1967D2;\n",
              "      height: 32px;\n",
              "      padding: 0 0 0 0;\n",
              "      width: 32px;\n",
              "    }\n",
              "\n",
              "    .colab-df-convert:hover {\n",
              "      background-color: #E2EBFA;\n",
              "      box-shadow: 0px 1px 2px rgba(60, 64, 67, 0.3), 0px 1px 3px 1px rgba(60, 64, 67, 0.15);\n",
              "      fill: #174EA6;\n",
              "    }\n",
              "\n",
              "    [theme=dark] .colab-df-convert {\n",
              "      background-color: #3B4455;\n",
              "      fill: #D2E3FC;\n",
              "    }\n",
              "\n",
              "    [theme=dark] .colab-df-convert:hover {\n",
              "      background-color: #434B5C;\n",
              "      box-shadow: 0px 1px 3px 1px rgba(0, 0, 0, 0.15);\n",
              "      filter: drop-shadow(0px 1px 2px rgba(0, 0, 0, 0.3));\n",
              "      fill: #FFFFFF;\n",
              "    }\n",
              "  </style>\n",
              "\n",
              "      <script>\n",
              "        const buttonEl =\n",
              "          document.querySelector('#df-7412766c-8913-4a56-9fbc-95c3d0768e7d button.colab-df-convert');\n",
              "        buttonEl.style.display =\n",
              "          google.colab.kernel.accessAllowed ? 'block' : 'none';\n",
              "\n",
              "        async function convertToInteractive(key) {\n",
              "          const element = document.querySelector('#df-7412766c-8913-4a56-9fbc-95c3d0768e7d');\n",
              "          const dataTable =\n",
              "            await google.colab.kernel.invokeFunction('convertToInteractive',\n",
              "                                                     [key], {});\n",
              "          if (!dataTable) return;\n",
              "\n",
              "          const docLinkHtml = 'Like what you see? Visit the ' +\n",
              "            '<a target=\"_blank\" href=https://colab.research.google.com/notebooks/data_table.ipynb>data table notebook</a>'\n",
              "            + ' to learn more about interactive tables.';\n",
              "          element.innerHTML = '';\n",
              "          dataTable['output_type'] = 'display_data';\n",
              "          await google.colab.output.renderOutput(dataTable, element);\n",
              "          const docLink = document.createElement('div');\n",
              "          docLink.innerHTML = docLinkHtml;\n",
              "          element.appendChild(docLink);\n",
              "        }\n",
              "      </script>\n",
              "    </div>\n",
              "  </div>\n",
              "  "
            ]
          },
          "metadata": {},
          "execution_count": 679
        }
      ]
    },
    {
      "cell_type": "code",
      "source": [
        "df.columns"
      ],
      "metadata": {
        "colab": {
          "base_uri": "https://localhost:8080/"
        },
        "id": "x2ypGjEj2jdp",
        "outputId": "bc35dfa8-b9b3-4ea9-f3c3-16e4c234d555"
      },
      "execution_count": 680,
      "outputs": [
        {
          "output_type": "execute_result",
          "data": {
            "text/plain": [
              "Index(['examNo', 'staffNo', 'petNo', 'chiefComplaint', 'description',\n",
              "       'dateSeen', 'actionsTaken'],\n",
              "      dtype='object')"
            ]
          },
          "metadata": {},
          "execution_count": 680
        }
      ]
    },
    {
      "cell_type": "markdown",
      "source": [
        "Querying Values from Relations"
      ],
      "metadata": {
        "id": "wbpH27PEOODT"
      }
    },
    {
      "cell_type": "markdown",
      "source": [
        "Info is printed as a pandas dataframe for easy viewing"
      ],
      "metadata": {
        "id": "5qFa04MnbHOY"
      }
    },
    {
      "cell_type": "code",
      "source": [
        "#Q: Find how many pets owner number JJ225 owns.\n",
        "queryNumPets = \"\"\"SELECT o.ownerNo, COUNT(petNo) AS petCount\n",
        "                  FROM OWNER o, PET p\n",
        "                  WHERE o.ownerNo = p.ownerNo\n",
        "                  AND o.ownerNo = 'JJ225';\"\"\"\n",
        "\n",
        "cursor.execute(queryNumPets)\n",
        "\n",
        "#printing answer\n",
        "col_names = [row[0] for row in cursor.description]\n",
        "table_data = cursor.fetchall()\n",
        "df = pd.DataFrame(table_data, columns = col_names)\n",
        "df"
      ],
      "metadata": {
        "id": "RxwQlGI_ADqo",
        "colab": {
          "base_uri": "https://localhost:8080/",
          "height": 81
        },
        "outputId": "df5695d5-8f76-493a-a25c-c2ceb0b37dd1"
      },
      "execution_count": 681,
      "outputs": [
        {
          "output_type": "execute_result",
          "data": {
            "text/plain": [
              "  ownerNo  petCount\n",
              "0   JJ225         2"
            ],
            "text/html": [
              "\n",
              "  <div id=\"df-b8b37265-ae4d-4448-9920-3a5e4a8f65db\">\n",
              "    <div class=\"colab-df-container\">\n",
              "      <div>\n",
              "<style scoped>\n",
              "    .dataframe tbody tr th:only-of-type {\n",
              "        vertical-align: middle;\n",
              "    }\n",
              "\n",
              "    .dataframe tbody tr th {\n",
              "        vertical-align: top;\n",
              "    }\n",
              "\n",
              "    .dataframe thead th {\n",
              "        text-align: right;\n",
              "    }\n",
              "</style>\n",
              "<table border=\"1\" class=\"dataframe\">\n",
              "  <thead>\n",
              "    <tr style=\"text-align: right;\">\n",
              "      <th></th>\n",
              "      <th>ownerNo</th>\n",
              "      <th>petCount</th>\n",
              "    </tr>\n",
              "  </thead>\n",
              "  <tbody>\n",
              "    <tr>\n",
              "      <th>0</th>\n",
              "      <td>JJ225</td>\n",
              "      <td>2</td>\n",
              "    </tr>\n",
              "  </tbody>\n",
              "</table>\n",
              "</div>\n",
              "      <button class=\"colab-df-convert\" onclick=\"convertToInteractive('df-b8b37265-ae4d-4448-9920-3a5e4a8f65db')\"\n",
              "              title=\"Convert this dataframe to an interactive table.\"\n",
              "              style=\"display:none;\">\n",
              "        \n",
              "  <svg xmlns=\"http://www.w3.org/2000/svg\" height=\"24px\"viewBox=\"0 0 24 24\"\n",
              "       width=\"24px\">\n",
              "    <path d=\"M0 0h24v24H0V0z\" fill=\"none\"/>\n",
              "    <path d=\"M18.56 5.44l.94 2.06.94-2.06 2.06-.94-2.06-.94-.94-2.06-.94 2.06-2.06.94zm-11 1L8.5 8.5l.94-2.06 2.06-.94-2.06-.94L8.5 2.5l-.94 2.06-2.06.94zm10 10l.94 2.06.94-2.06 2.06-.94-2.06-.94-.94-2.06-.94 2.06-2.06.94z\"/><path d=\"M17.41 7.96l-1.37-1.37c-.4-.4-.92-.59-1.43-.59-.52 0-1.04.2-1.43.59L10.3 9.45l-7.72 7.72c-.78.78-.78 2.05 0 2.83L4 21.41c.39.39.9.59 1.41.59.51 0 1.02-.2 1.41-.59l7.78-7.78 2.81-2.81c.8-.78.8-2.07 0-2.86zM5.41 20L4 18.59l7.72-7.72 1.47 1.35L5.41 20z\"/>\n",
              "  </svg>\n",
              "      </button>\n",
              "      \n",
              "  <style>\n",
              "    .colab-df-container {\n",
              "      display:flex;\n",
              "      flex-wrap:wrap;\n",
              "      gap: 12px;\n",
              "    }\n",
              "\n",
              "    .colab-df-convert {\n",
              "      background-color: #E8F0FE;\n",
              "      border: none;\n",
              "      border-radius: 50%;\n",
              "      cursor: pointer;\n",
              "      display: none;\n",
              "      fill: #1967D2;\n",
              "      height: 32px;\n",
              "      padding: 0 0 0 0;\n",
              "      width: 32px;\n",
              "    }\n",
              "\n",
              "    .colab-df-convert:hover {\n",
              "      background-color: #E2EBFA;\n",
              "      box-shadow: 0px 1px 2px rgba(60, 64, 67, 0.3), 0px 1px 3px 1px rgba(60, 64, 67, 0.15);\n",
              "      fill: #174EA6;\n",
              "    }\n",
              "\n",
              "    [theme=dark] .colab-df-convert {\n",
              "      background-color: #3B4455;\n",
              "      fill: #D2E3FC;\n",
              "    }\n",
              "\n",
              "    [theme=dark] .colab-df-convert:hover {\n",
              "      background-color: #434B5C;\n",
              "      box-shadow: 0px 1px 3px 1px rgba(0, 0, 0, 0.15);\n",
              "      filter: drop-shadow(0px 1px 2px rgba(0, 0, 0, 0.3));\n",
              "      fill: #FFFFFF;\n",
              "    }\n",
              "  </style>\n",
              "\n",
              "      <script>\n",
              "        const buttonEl =\n",
              "          document.querySelector('#df-b8b37265-ae4d-4448-9920-3a5e4a8f65db button.colab-df-convert');\n",
              "        buttonEl.style.display =\n",
              "          google.colab.kernel.accessAllowed ? 'block' : 'none';\n",
              "\n",
              "        async function convertToInteractive(key) {\n",
              "          const element = document.querySelector('#df-b8b37265-ae4d-4448-9920-3a5e4a8f65db');\n",
              "          const dataTable =\n",
              "            await google.colab.kernel.invokeFunction('convertToInteractive',\n",
              "                                                     [key], {});\n",
              "          if (!dataTable) return;\n",
              "\n",
              "          const docLinkHtml = 'Like what you see? Visit the ' +\n",
              "            '<a target=\"_blank\" href=https://colab.research.google.com/notebooks/data_table.ipynb>data table notebook</a>'\n",
              "            + ' to learn more about interactive tables.';\n",
              "          element.innerHTML = '';\n",
              "          dataTable['output_type'] = 'display_data';\n",
              "          await google.colab.output.renderOutput(dataTable, element);\n",
              "          const docLink = document.createElement('div');\n",
              "          docLink.innerHTML = docLinkHtml;\n",
              "          element.appendChild(docLink);\n",
              "        }\n",
              "      </script>\n",
              "    </div>\n",
              "  </div>\n",
              "  "
            ]
          },
          "metadata": {},
          "execution_count": 681
        }
      ]
    },
    {
      "cell_type": "code",
      "source": [
        "#Q: Find how many dogs are registered in clinic number NY102.\n",
        "queryRegisteredDogs = \"\"\"SELECT c.clinicNo, species, COUNT(petNo) AS dogCount\n",
        "                         FROM CLINIC c, PET p\n",
        "                         WHERE c.clinicNo = p.clinicNo\n",
        "                         AND c.clinicNo = 'NY102'\n",
        "                         AND species = 'Dog';\"\"\"\n",
        "\n",
        "cursor.execute(queryRegisteredDogs)\n",
        "\n",
        "#printing answer\n",
        "col_names = [row[0] for row in cursor.description]\n",
        "table_data = cursor.fetchall()\n",
        "df = pd.DataFrame(table_data, columns = col_names)\n",
        "df"
      ],
      "metadata": {
        "id": "GkZCwJqVAfEs",
        "colab": {
          "base_uri": "https://localhost:8080/",
          "height": 81
        },
        "outputId": "d3271a1c-71e0-4941-84d3-3cdd9d16688a"
      },
      "execution_count": 682,
      "outputs": [
        {
          "output_type": "execute_result",
          "data": {
            "text/plain": [
              "  clinicNo species  dogCount\n",
              "0    NY102     Dog         1"
            ],
            "text/html": [
              "\n",
              "  <div id=\"df-618ae85c-25cd-474e-916e-4104851f656f\">\n",
              "    <div class=\"colab-df-container\">\n",
              "      <div>\n",
              "<style scoped>\n",
              "    .dataframe tbody tr th:only-of-type {\n",
              "        vertical-align: middle;\n",
              "    }\n",
              "\n",
              "    .dataframe tbody tr th {\n",
              "        vertical-align: top;\n",
              "    }\n",
              "\n",
              "    .dataframe thead th {\n",
              "        text-align: right;\n",
              "    }\n",
              "</style>\n",
              "<table border=\"1\" class=\"dataframe\">\n",
              "  <thead>\n",
              "    <tr style=\"text-align: right;\">\n",
              "      <th></th>\n",
              "      <th>clinicNo</th>\n",
              "      <th>species</th>\n",
              "      <th>dogCount</th>\n",
              "    </tr>\n",
              "  </thead>\n",
              "  <tbody>\n",
              "    <tr>\n",
              "      <th>0</th>\n",
              "      <td>NY102</td>\n",
              "      <td>Dog</td>\n",
              "      <td>1</td>\n",
              "    </tr>\n",
              "  </tbody>\n",
              "</table>\n",
              "</div>\n",
              "      <button class=\"colab-df-convert\" onclick=\"convertToInteractive('df-618ae85c-25cd-474e-916e-4104851f656f')\"\n",
              "              title=\"Convert this dataframe to an interactive table.\"\n",
              "              style=\"display:none;\">\n",
              "        \n",
              "  <svg xmlns=\"http://www.w3.org/2000/svg\" height=\"24px\"viewBox=\"0 0 24 24\"\n",
              "       width=\"24px\">\n",
              "    <path d=\"M0 0h24v24H0V0z\" fill=\"none\"/>\n",
              "    <path d=\"M18.56 5.44l.94 2.06.94-2.06 2.06-.94-2.06-.94-.94-2.06-.94 2.06-2.06.94zm-11 1L8.5 8.5l.94-2.06 2.06-.94-2.06-.94L8.5 2.5l-.94 2.06-2.06.94zm10 10l.94 2.06.94-2.06 2.06-.94-2.06-.94-.94-2.06-.94 2.06-2.06.94z\"/><path d=\"M17.41 7.96l-1.37-1.37c-.4-.4-.92-.59-1.43-.59-.52 0-1.04.2-1.43.59L10.3 9.45l-7.72 7.72c-.78.78-.78 2.05 0 2.83L4 21.41c.39.39.9.59 1.41.59.51 0 1.02-.2 1.41-.59l7.78-7.78 2.81-2.81c.8-.78.8-2.07 0-2.86zM5.41 20L4 18.59l7.72-7.72 1.47 1.35L5.41 20z\"/>\n",
              "  </svg>\n",
              "      </button>\n",
              "      \n",
              "  <style>\n",
              "    .colab-df-container {\n",
              "      display:flex;\n",
              "      flex-wrap:wrap;\n",
              "      gap: 12px;\n",
              "    }\n",
              "\n",
              "    .colab-df-convert {\n",
              "      background-color: #E8F0FE;\n",
              "      border: none;\n",
              "      border-radius: 50%;\n",
              "      cursor: pointer;\n",
              "      display: none;\n",
              "      fill: #1967D2;\n",
              "      height: 32px;\n",
              "      padding: 0 0 0 0;\n",
              "      width: 32px;\n",
              "    }\n",
              "\n",
              "    .colab-df-convert:hover {\n",
              "      background-color: #E2EBFA;\n",
              "      box-shadow: 0px 1px 2px rgba(60, 64, 67, 0.3), 0px 1px 3px 1px rgba(60, 64, 67, 0.15);\n",
              "      fill: #174EA6;\n",
              "    }\n",
              "\n",
              "    [theme=dark] .colab-df-convert {\n",
              "      background-color: #3B4455;\n",
              "      fill: #D2E3FC;\n",
              "    }\n",
              "\n",
              "    [theme=dark] .colab-df-convert:hover {\n",
              "      background-color: #434B5C;\n",
              "      box-shadow: 0px 1px 3px 1px rgba(0, 0, 0, 0.15);\n",
              "      filter: drop-shadow(0px 1px 2px rgba(0, 0, 0, 0.3));\n",
              "      fill: #FFFFFF;\n",
              "    }\n",
              "  </style>\n",
              "\n",
              "      <script>\n",
              "        const buttonEl =\n",
              "          document.querySelector('#df-618ae85c-25cd-474e-916e-4104851f656f button.colab-df-convert');\n",
              "        buttonEl.style.display =\n",
              "          google.colab.kernel.accessAllowed ? 'block' : 'none';\n",
              "\n",
              "        async function convertToInteractive(key) {\n",
              "          const element = document.querySelector('#df-618ae85c-25cd-474e-916e-4104851f656f');\n",
              "          const dataTable =\n",
              "            await google.colab.kernel.invokeFunction('convertToInteractive',\n",
              "                                                     [key], {});\n",
              "          if (!dataTable) return;\n",
              "\n",
              "          const docLinkHtml = 'Like what you see? Visit the ' +\n",
              "            '<a target=\"_blank\" href=https://colab.research.google.com/notebooks/data_table.ipynb>data table notebook</a>'\n",
              "            + ' to learn more about interactive tables.';\n",
              "          element.innerHTML = '';\n",
              "          dataTable['output_type'] = 'display_data';\n",
              "          await google.colab.output.renderOutput(dataTable, element);\n",
              "          const docLink = document.createElement('div');\n",
              "          docLink.innerHTML = docLinkHtml;\n",
              "          element.appendChild(docLink);\n",
              "        }\n",
              "      </script>\n",
              "    </div>\n",
              "  </div>\n",
              "  "
            ]
          },
          "metadata": {},
          "execution_count": 682
        }
      ]
    },
    {
      "cell_type": "code",
      "source": [
        "#Q: Find the average salary of the staff in Big Apple Pet Clinic.\n",
        "queryAvgSalary = \"\"\"SELECT c.name, AVG(salary) AS avgStaffSalary\n",
        "                    FROM CLINIC c, STAFF s\n",
        "                    WHERE c.clinicNo = s.clinicNo\n",
        "                    AND c.name = 'Big Apple Pet Clinic';\"\"\"\n",
        "\n",
        "cursor.execute(queryAvgSalary)\n",
        "\n",
        "#printing answer\n",
        "col_names = [row[0] for row in cursor.description]\n",
        "table_data = cursor.fetchall()\n",
        "df = pd.DataFrame(table_data, columns = col_names)\n",
        "df"
      ],
      "metadata": {
        "id": "ZdBerAcVA8mE",
        "colab": {
          "base_uri": "https://localhost:8080/",
          "height": 81
        },
        "outputId": "5690322c-8ab9-43dc-86c3-7ee97f628f37"
      },
      "execution_count": 683,
      "outputs": [
        {
          "output_type": "execute_result",
          "data": {
            "text/plain": [
              "                   name  avgStaffSalary\n",
              "0  Big Apple Pet Clinic         88500.0"
            ],
            "text/html": [
              "\n",
              "  <div id=\"df-746e82e5-fd7e-4b80-bcb4-85068b0155b4\">\n",
              "    <div class=\"colab-df-container\">\n",
              "      <div>\n",
              "<style scoped>\n",
              "    .dataframe tbody tr th:only-of-type {\n",
              "        vertical-align: middle;\n",
              "    }\n",
              "\n",
              "    .dataframe tbody tr th {\n",
              "        vertical-align: top;\n",
              "    }\n",
              "\n",
              "    .dataframe thead th {\n",
              "        text-align: right;\n",
              "    }\n",
              "</style>\n",
              "<table border=\"1\" class=\"dataframe\">\n",
              "  <thead>\n",
              "    <tr style=\"text-align: right;\">\n",
              "      <th></th>\n",
              "      <th>name</th>\n",
              "      <th>avgStaffSalary</th>\n",
              "    </tr>\n",
              "  </thead>\n",
              "  <tbody>\n",
              "    <tr>\n",
              "      <th>0</th>\n",
              "      <td>Big Apple Pet Clinic</td>\n",
              "      <td>88500.0</td>\n",
              "    </tr>\n",
              "  </tbody>\n",
              "</table>\n",
              "</div>\n",
              "      <button class=\"colab-df-convert\" onclick=\"convertToInteractive('df-746e82e5-fd7e-4b80-bcb4-85068b0155b4')\"\n",
              "              title=\"Convert this dataframe to an interactive table.\"\n",
              "              style=\"display:none;\">\n",
              "        \n",
              "  <svg xmlns=\"http://www.w3.org/2000/svg\" height=\"24px\"viewBox=\"0 0 24 24\"\n",
              "       width=\"24px\">\n",
              "    <path d=\"M0 0h24v24H0V0z\" fill=\"none\"/>\n",
              "    <path d=\"M18.56 5.44l.94 2.06.94-2.06 2.06-.94-2.06-.94-.94-2.06-.94 2.06-2.06.94zm-11 1L8.5 8.5l.94-2.06 2.06-.94-2.06-.94L8.5 2.5l-.94 2.06-2.06.94zm10 10l.94 2.06.94-2.06 2.06-.94-2.06-.94-.94-2.06-.94 2.06-2.06.94z\"/><path d=\"M17.41 7.96l-1.37-1.37c-.4-.4-.92-.59-1.43-.59-.52 0-1.04.2-1.43.59L10.3 9.45l-7.72 7.72c-.78.78-.78 2.05 0 2.83L4 21.41c.39.39.9.59 1.41.59.51 0 1.02-.2 1.41-.59l7.78-7.78 2.81-2.81c.8-.78.8-2.07 0-2.86zM5.41 20L4 18.59l7.72-7.72 1.47 1.35L5.41 20z\"/>\n",
              "  </svg>\n",
              "      </button>\n",
              "      \n",
              "  <style>\n",
              "    .colab-df-container {\n",
              "      display:flex;\n",
              "      flex-wrap:wrap;\n",
              "      gap: 12px;\n",
              "    }\n",
              "\n",
              "    .colab-df-convert {\n",
              "      background-color: #E8F0FE;\n",
              "      border: none;\n",
              "      border-radius: 50%;\n",
              "      cursor: pointer;\n",
              "      display: none;\n",
              "      fill: #1967D2;\n",
              "      height: 32px;\n",
              "      padding: 0 0 0 0;\n",
              "      width: 32px;\n",
              "    }\n",
              "\n",
              "    .colab-df-convert:hover {\n",
              "      background-color: #E2EBFA;\n",
              "      box-shadow: 0px 1px 2px rgba(60, 64, 67, 0.3), 0px 1px 3px 1px rgba(60, 64, 67, 0.15);\n",
              "      fill: #174EA6;\n",
              "    }\n",
              "\n",
              "    [theme=dark] .colab-df-convert {\n",
              "      background-color: #3B4455;\n",
              "      fill: #D2E3FC;\n",
              "    }\n",
              "\n",
              "    [theme=dark] .colab-df-convert:hover {\n",
              "      background-color: #434B5C;\n",
              "      box-shadow: 0px 1px 3px 1px rgba(0, 0, 0, 0.15);\n",
              "      filter: drop-shadow(0px 1px 2px rgba(0, 0, 0, 0.3));\n",
              "      fill: #FFFFFF;\n",
              "    }\n",
              "  </style>\n",
              "\n",
              "      <script>\n",
              "        const buttonEl =\n",
              "          document.querySelector('#df-746e82e5-fd7e-4b80-bcb4-85068b0155b4 button.colab-df-convert');\n",
              "        buttonEl.style.display =\n",
              "          google.colab.kernel.accessAllowed ? 'block' : 'none';\n",
              "\n",
              "        async function convertToInteractive(key) {\n",
              "          const element = document.querySelector('#df-746e82e5-fd7e-4b80-bcb4-85068b0155b4');\n",
              "          const dataTable =\n",
              "            await google.colab.kernel.invokeFunction('convertToInteractive',\n",
              "                                                     [key], {});\n",
              "          if (!dataTable) return;\n",
              "\n",
              "          const docLinkHtml = 'Like what you see? Visit the ' +\n",
              "            '<a target=\"_blank\" href=https://colab.research.google.com/notebooks/data_table.ipynb>data table notebook</a>'\n",
              "            + ' to learn more about interactive tables.';\n",
              "          element.innerHTML = '';\n",
              "          dataTable['output_type'] = 'display_data';\n",
              "          await google.colab.output.renderOutput(dataTable, element);\n",
              "          const docLink = document.createElement('div');\n",
              "          docLink.innerHTML = docLinkHtml;\n",
              "          element.appendChild(docLink);\n",
              "        }\n",
              "      </script>\n",
              "    </div>\n",
              "  </div>\n",
              "  "
            ]
          },
          "metadata": {},
          "execution_count": 683
        }
      ]
    },
    {
      "cell_type": "code",
      "source": [
        "#Q: List the names and species of the pets that have had annual checkups in 2022.\n",
        "queryAnnuals = \"\"\"SELECT dateSeen, chiefComplaint, name, species\n",
        "                  FROM PET p, EXAMINATION e\n",
        "                  WHERE p.petNo = e.petNo\n",
        "                  AND chiefComplaint = 'Annual'\n",
        "                  AND dateSeen LIKE '2022%';\"\"\"\n",
        "\n",
        "cursor.execute(queryAnnuals)\n",
        "\n",
        "#printing answer\n",
        "col_names = [row[0] for row in cursor.description]\n",
        "table_data = cursor.fetchall()\n",
        "df = pd.DataFrame(table_data, columns = col_names)\n",
        "df"
      ],
      "metadata": {
        "id": "7QVcP9VjBBA4",
        "colab": {
          "base_uri": "https://localhost:8080/",
          "height": 112
        },
        "outputId": "d9ae3dc9-bf7a-4244-810f-5498c8f0aaf5"
      },
      "execution_count": 684,
      "outputs": [
        {
          "output_type": "execute_result",
          "data": {
            "text/plain": [
              "     dateSeen chiefComplaint  name  species\n",
              "0  2022-06-11         Annual    Ad  Hamster\n",
              "1  2022-09-28         Annual  Lady      Cat"
            ],
            "text/html": [
              "\n",
              "  <div id=\"df-0f20efd4-a87a-43f3-9486-4159a579fff5\">\n",
              "    <div class=\"colab-df-container\">\n",
              "      <div>\n",
              "<style scoped>\n",
              "    .dataframe tbody tr th:only-of-type {\n",
              "        vertical-align: middle;\n",
              "    }\n",
              "\n",
              "    .dataframe tbody tr th {\n",
              "        vertical-align: top;\n",
              "    }\n",
              "\n",
              "    .dataframe thead th {\n",
              "        text-align: right;\n",
              "    }\n",
              "</style>\n",
              "<table border=\"1\" class=\"dataframe\">\n",
              "  <thead>\n",
              "    <tr style=\"text-align: right;\">\n",
              "      <th></th>\n",
              "      <th>dateSeen</th>\n",
              "      <th>chiefComplaint</th>\n",
              "      <th>name</th>\n",
              "      <th>species</th>\n",
              "    </tr>\n",
              "  </thead>\n",
              "  <tbody>\n",
              "    <tr>\n",
              "      <th>0</th>\n",
              "      <td>2022-06-11</td>\n",
              "      <td>Annual</td>\n",
              "      <td>Ad</td>\n",
              "      <td>Hamster</td>\n",
              "    </tr>\n",
              "    <tr>\n",
              "      <th>1</th>\n",
              "      <td>2022-09-28</td>\n",
              "      <td>Annual</td>\n",
              "      <td>Lady</td>\n",
              "      <td>Cat</td>\n",
              "    </tr>\n",
              "  </tbody>\n",
              "</table>\n",
              "</div>\n",
              "      <button class=\"colab-df-convert\" onclick=\"convertToInteractive('df-0f20efd4-a87a-43f3-9486-4159a579fff5')\"\n",
              "              title=\"Convert this dataframe to an interactive table.\"\n",
              "              style=\"display:none;\">\n",
              "        \n",
              "  <svg xmlns=\"http://www.w3.org/2000/svg\" height=\"24px\"viewBox=\"0 0 24 24\"\n",
              "       width=\"24px\">\n",
              "    <path d=\"M0 0h24v24H0V0z\" fill=\"none\"/>\n",
              "    <path d=\"M18.56 5.44l.94 2.06.94-2.06 2.06-.94-2.06-.94-.94-2.06-.94 2.06-2.06.94zm-11 1L8.5 8.5l.94-2.06 2.06-.94-2.06-.94L8.5 2.5l-.94 2.06-2.06.94zm10 10l.94 2.06.94-2.06 2.06-.94-2.06-.94-.94-2.06-.94 2.06-2.06.94z\"/><path d=\"M17.41 7.96l-1.37-1.37c-.4-.4-.92-.59-1.43-.59-.52 0-1.04.2-1.43.59L10.3 9.45l-7.72 7.72c-.78.78-.78 2.05 0 2.83L4 21.41c.39.39.9.59 1.41.59.51 0 1.02-.2 1.41-.59l7.78-7.78 2.81-2.81c.8-.78.8-2.07 0-2.86zM5.41 20L4 18.59l7.72-7.72 1.47 1.35L5.41 20z\"/>\n",
              "  </svg>\n",
              "      </button>\n",
              "      \n",
              "  <style>\n",
              "    .colab-df-container {\n",
              "      display:flex;\n",
              "      flex-wrap:wrap;\n",
              "      gap: 12px;\n",
              "    }\n",
              "\n",
              "    .colab-df-convert {\n",
              "      background-color: #E8F0FE;\n",
              "      border: none;\n",
              "      border-radius: 50%;\n",
              "      cursor: pointer;\n",
              "      display: none;\n",
              "      fill: #1967D2;\n",
              "      height: 32px;\n",
              "      padding: 0 0 0 0;\n",
              "      width: 32px;\n",
              "    }\n",
              "\n",
              "    .colab-df-convert:hover {\n",
              "      background-color: #E2EBFA;\n",
              "      box-shadow: 0px 1px 2px rgba(60, 64, 67, 0.3), 0px 1px 3px 1px rgba(60, 64, 67, 0.15);\n",
              "      fill: #174EA6;\n",
              "    }\n",
              "\n",
              "    [theme=dark] .colab-df-convert {\n",
              "      background-color: #3B4455;\n",
              "      fill: #D2E3FC;\n",
              "    }\n",
              "\n",
              "    [theme=dark] .colab-df-convert:hover {\n",
              "      background-color: #434B5C;\n",
              "      box-shadow: 0px 1px 3px 1px rgba(0, 0, 0, 0.15);\n",
              "      filter: drop-shadow(0px 1px 2px rgba(0, 0, 0, 0.3));\n",
              "      fill: #FFFFFF;\n",
              "    }\n",
              "  </style>\n",
              "\n",
              "      <script>\n",
              "        const buttonEl =\n",
              "          document.querySelector('#df-0f20efd4-a87a-43f3-9486-4159a579fff5 button.colab-df-convert');\n",
              "        buttonEl.style.display =\n",
              "          google.colab.kernel.accessAllowed ? 'block' : 'none';\n",
              "\n",
              "        async function convertToInteractive(key) {\n",
              "          const element = document.querySelector('#df-0f20efd4-a87a-43f3-9486-4159a579fff5');\n",
              "          const dataTable =\n",
              "            await google.colab.kernel.invokeFunction('convertToInteractive',\n",
              "                                                     [key], {});\n",
              "          if (!dataTable) return;\n",
              "\n",
              "          const docLinkHtml = 'Like what you see? Visit the ' +\n",
              "            '<a target=\"_blank\" href=https://colab.research.google.com/notebooks/data_table.ipynb>data table notebook</a>'\n",
              "            + ' to learn more about interactive tables.';\n",
              "          element.innerHTML = '';\n",
              "          dataTable['output_type'] = 'display_data';\n",
              "          await google.colab.output.renderOutput(dataTable, element);\n",
              "          const docLink = document.createElement('div');\n",
              "          docLink.innerHTML = docLinkHtml;\n",
              "          element.appendChild(docLink);\n",
              "        }\n",
              "      </script>\n",
              "    </div>\n",
              "  </div>\n",
              "  "
            ]
          },
          "metadata": {},
          "execution_count": 684
        }
      ]
    },
    {
      "cell_type": "code",
      "source": [
        "#Q: List the names and positions of the staff members who have performed X-Rays\n",
        "#   and the actions taken at the end of those examinations.\n",
        "queryXRays = \"\"\"SELECT name, position, description, actionsTaken\n",
        "                FROM STAFF s, EXAMINATION e\n",
        "                WHERE s.staffNo = e.staffNo\n",
        "                AND description LIKE '%XRay%';\"\"\"\n",
        "\n",
        "cursor.execute(queryXRays)\n",
        "\n",
        "#printing answer\n",
        "col_names = [row[0] for row in cursor.description]\n",
        "table_data = cursor.fetchall()\n",
        "df = pd.DataFrame(table_data, columns = col_names)\n",
        "df"
      ],
      "metadata": {
        "id": "ReeiNfRcBHTw",
        "colab": {
          "base_uri": "https://localhost:8080/",
          "height": 112
        },
        "outputId": "9ace99e6-c3c5-4ec8-c2a7-13f636db7e03"
      },
      "execution_count": 685,
      "outputs": [
        {
          "output_type": "execute_result",
          "data": {
            "text/plain": [
              "              name position          description  \\\n",
              "0     Emma Emerson    Staff  XRay front left leg   \n",
              "1  Steven Stephens    Staff   XRay back left leg   \n",
              "\n",
              "                       actionsTaken  \n",
              "0  Cast, prescribed pain medication  \n",
              "1  Cast, prescribed pain medication  "
            ],
            "text/html": [
              "\n",
              "  <div id=\"df-568cf9c7-de5d-455c-8658-b93625862381\">\n",
              "    <div class=\"colab-df-container\">\n",
              "      <div>\n",
              "<style scoped>\n",
              "    .dataframe tbody tr th:only-of-type {\n",
              "        vertical-align: middle;\n",
              "    }\n",
              "\n",
              "    .dataframe tbody tr th {\n",
              "        vertical-align: top;\n",
              "    }\n",
              "\n",
              "    .dataframe thead th {\n",
              "        text-align: right;\n",
              "    }\n",
              "</style>\n",
              "<table border=\"1\" class=\"dataframe\">\n",
              "  <thead>\n",
              "    <tr style=\"text-align: right;\">\n",
              "      <th></th>\n",
              "      <th>name</th>\n",
              "      <th>position</th>\n",
              "      <th>description</th>\n",
              "      <th>actionsTaken</th>\n",
              "    </tr>\n",
              "  </thead>\n",
              "  <tbody>\n",
              "    <tr>\n",
              "      <th>0</th>\n",
              "      <td>Emma Emerson</td>\n",
              "      <td>Staff</td>\n",
              "      <td>XRay front left leg</td>\n",
              "      <td>Cast, prescribed pain medication</td>\n",
              "    </tr>\n",
              "    <tr>\n",
              "      <th>1</th>\n",
              "      <td>Steven Stephens</td>\n",
              "      <td>Staff</td>\n",
              "      <td>XRay back left leg</td>\n",
              "      <td>Cast, prescribed pain medication</td>\n",
              "    </tr>\n",
              "  </tbody>\n",
              "</table>\n",
              "</div>\n",
              "      <button class=\"colab-df-convert\" onclick=\"convertToInteractive('df-568cf9c7-de5d-455c-8658-b93625862381')\"\n",
              "              title=\"Convert this dataframe to an interactive table.\"\n",
              "              style=\"display:none;\">\n",
              "        \n",
              "  <svg xmlns=\"http://www.w3.org/2000/svg\" height=\"24px\"viewBox=\"0 0 24 24\"\n",
              "       width=\"24px\">\n",
              "    <path d=\"M0 0h24v24H0V0z\" fill=\"none\"/>\n",
              "    <path d=\"M18.56 5.44l.94 2.06.94-2.06 2.06-.94-2.06-.94-.94-2.06-.94 2.06-2.06.94zm-11 1L8.5 8.5l.94-2.06 2.06-.94-2.06-.94L8.5 2.5l-.94 2.06-2.06.94zm10 10l.94 2.06.94-2.06 2.06-.94-2.06-.94-.94-2.06-.94 2.06-2.06.94z\"/><path d=\"M17.41 7.96l-1.37-1.37c-.4-.4-.92-.59-1.43-.59-.52 0-1.04.2-1.43.59L10.3 9.45l-7.72 7.72c-.78.78-.78 2.05 0 2.83L4 21.41c.39.39.9.59 1.41.59.51 0 1.02-.2 1.41-.59l7.78-7.78 2.81-2.81c.8-.78.8-2.07 0-2.86zM5.41 20L4 18.59l7.72-7.72 1.47 1.35L5.41 20z\"/>\n",
              "  </svg>\n",
              "      </button>\n",
              "      \n",
              "  <style>\n",
              "    .colab-df-container {\n",
              "      display:flex;\n",
              "      flex-wrap:wrap;\n",
              "      gap: 12px;\n",
              "    }\n",
              "\n",
              "    .colab-df-convert {\n",
              "      background-color: #E8F0FE;\n",
              "      border: none;\n",
              "      border-radius: 50%;\n",
              "      cursor: pointer;\n",
              "      display: none;\n",
              "      fill: #1967D2;\n",
              "      height: 32px;\n",
              "      padding: 0 0 0 0;\n",
              "      width: 32px;\n",
              "    }\n",
              "\n",
              "    .colab-df-convert:hover {\n",
              "      background-color: #E2EBFA;\n",
              "      box-shadow: 0px 1px 2px rgba(60, 64, 67, 0.3), 0px 1px 3px 1px rgba(60, 64, 67, 0.15);\n",
              "      fill: #174EA6;\n",
              "    }\n",
              "\n",
              "    [theme=dark] .colab-df-convert {\n",
              "      background-color: #3B4455;\n",
              "      fill: #D2E3FC;\n",
              "    }\n",
              "\n",
              "    [theme=dark] .colab-df-convert:hover {\n",
              "      background-color: #434B5C;\n",
              "      box-shadow: 0px 1px 3px 1px rgba(0, 0, 0, 0.15);\n",
              "      filter: drop-shadow(0px 1px 2px rgba(0, 0, 0, 0.3));\n",
              "      fill: #FFFFFF;\n",
              "    }\n",
              "  </style>\n",
              "\n",
              "      <script>\n",
              "        const buttonEl =\n",
              "          document.querySelector('#df-568cf9c7-de5d-455c-8658-b93625862381 button.colab-df-convert');\n",
              "        buttonEl.style.display =\n",
              "          google.colab.kernel.accessAllowed ? 'block' : 'none';\n",
              "\n",
              "        async function convertToInteractive(key) {\n",
              "          const element = document.querySelector('#df-568cf9c7-de5d-455c-8658-b93625862381');\n",
              "          const dataTable =\n",
              "            await google.colab.kernel.invokeFunction('convertToInteractive',\n",
              "                                                     [key], {});\n",
              "          if (!dataTable) return;\n",
              "\n",
              "          const docLinkHtml = 'Like what you see? Visit the ' +\n",
              "            '<a target=\"_blank\" href=https://colab.research.google.com/notebooks/data_table.ipynb>data table notebook</a>'\n",
              "            + ' to learn more about interactive tables.';\n",
              "          element.innerHTML = '';\n",
              "          dataTable['output_type'] = 'display_data';\n",
              "          await google.colab.output.renderOutput(dataTable, element);\n",
              "          const docLink = document.createElement('div');\n",
              "          docLink.innerHTML = docLinkHtml;\n",
              "          element.appendChild(docLink);\n",
              "        }\n",
              "      </script>\n",
              "    </div>\n",
              "  </div>\n",
              "  "
            ]
          },
          "metadata": {},
          "execution_count": 685
        }
      ]
    },
    {
      "cell_type": "markdown",
      "source": [
        "Closing Database"
      ],
      "metadata": {
        "id": "iYCFvClWPOFd"
      }
    },
    {
      "cell_type": "code",
      "source": [
        "#committing any changes to the database\n",
        "db_connect.commit()"
      ],
      "metadata": {
        "id": "SNEWFtLCgBd6"
      },
      "execution_count": 686,
      "outputs": []
    },
    {
      "cell_type": "code",
      "source": [
        "#closing connection when done to be sure changes committed, else lost\n",
        "db_connect.close()"
      ],
      "metadata": {
        "id": "ZXKkxyyJgF_o"
      },
      "execution_count": 687,
      "outputs": []
    }
  ]
}